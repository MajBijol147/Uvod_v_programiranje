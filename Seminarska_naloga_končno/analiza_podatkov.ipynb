{
 "cells": [
  {
   "cell_type": "markdown",
   "id": "b56ec2d2",
   "metadata": {},
   "source": [
    "# Analiza podatkov\n",
    "\n",
    "Zdaj ko so podatki pobrani in shranjeni v csv datoteki lahko pričnemo z analizo 1126 skladb, ki so bile v 1998 izdaji *Bach-Werke-Verzeichnis* .\n",
    "Vse analitične funkcije so shranjene v datoteki `analiticne_funkcije.py` in jih tu samo kličemo.\n",
    "\n",
    "**Opomba: podatki so nepopolni**  \n",
    " Veliko podatkov se je izgubilo ali uničilo v zadnjih 300 letih, kakšni še niso bili odkriti ali pa skladba preprosto nima teh podatkov (npr. inštrumentalna skladba ne bo imela odlomkov iz biblije).   \n",
    "*Bach-Werke-Verzeichnis* se še do tega dneva dopolnjuje."
   ]
  },
  {
   "cell_type": "code",
   "execution_count": 1,
   "id": "f89f0535",
   "metadata": {},
   "outputs": [],
   "source": [
    "import pandas as pd\n",
    "import analiticne_funkcije as af\n",
    "\n",
    "bach = pd.read_csv(\"podatki_bach.csv\", index_col=\"sifra\")\n",
    "pd.options.display.max_rows = 30\n",
    "pd.set_option('display.max_colwidth', None)"
   ]
  },
  {
   "cell_type": "markdown",
   "id": "5af2f296",
   "metadata": {},
   "source": [
    "Označbe v **BWV** niso vedno naravna števila, ampak imajo pogosto decimalno mesto. To je oznaka za različico iste skladbe, torej ko je Bach isto skladbo spremenil za različne namene in priložnosti (npr. posvetna kantata je postala cerkvena).  \n",
    "Poiščimo BWV oznako z največ različicami:"
   ]
  },
  {
   "cell_type": "code",
   "execution_count": 2,
   "id": "5d9d5190",
   "metadata": {},
   "outputs": [
    {
     "data": {
      "text/plain": [
       "0    36\n",
       "Name: BWV, dtype: int64"
      ]
     },
     "execution_count": 2,
     "metadata": {},
     "output_type": "execute_result"
    }
   ],
   "source": [
    "af.najvec_razlicic()"
   ]
  },
  {
   "cell_type": "markdown",
   "id": "d469d670",
   "metadata": {},
   "source": [
    "Čeprav nobena skladba nima oznake BWV 36, so skladbe BWV 36.1 - 36.5 kantate. Tako je posvetna kantata BWV 36.1 \"*Schwingt freudig euch empor*\" postala cerkvena kantata BWV 36.4 in BWV 36.5 s istim naslovom."
   ]
  },
  {
   "cell_type": "markdown",
   "id": "b9ecc5e5",
   "metadata": {},
   "source": [
    "Poglejmo povezavo med žanrom in številom različič. Pričakujemo, da bodo obsežna dela imela več različic, saj so bolj kompleksna in zahtevajo obširnejšo zasedbo."
   ]
  },
  {
   "cell_type": "code",
   "execution_count": 3,
   "id": "7f4e5670",
   "metadata": {},
   "outputs": [
    {
     "name": "stderr",
     "output_type": "stream",
     "text": [
      "d:\\PODATKI MAJ\\Studij - Matematika\\Uvod_v_programiranje-1\\Seminarska_naloga_končno\\analiticne_funkcije.py:20: SettingWithCopyWarning: \n",
      "A value is trying to be set on a copy of a slice from a DataFrame.\n",
      "Try using .loc[row_indexer,col_indexer] = value instead\n",
      "\n",
      "See the caveats in the documentation: https://pandas.pydata.org/pandas-docs/stable/user_guide/indexing.html#returning-a-view-versus-a-copy\n",
      "  bach_BWVzanr_dropna[\"BWV\"] = bach_BWVzanr_dropna.BWV.astype(int).values.tolist()\n"
     ]
    },
    {
     "data": {
      "text/html": [
       "<div>\n",
       "<style scoped>\n",
       "    .dataframe tbody tr th:only-of-type {\n",
       "        vertical-align: middle;\n",
       "    }\n",
       "\n",
       "    .dataframe tbody tr th {\n",
       "        vertical-align: top;\n",
       "    }\n",
       "\n",
       "    .dataframe thead th {\n",
       "        text-align: right;\n",
       "    }\n",
       "</style>\n",
       "<table border=\"1\" class=\"dataframe\">\n",
       "  <thead>\n",
       "    <tr style=\"text-align: right;\">\n",
       "      <th></th>\n",
       "      <th>BWV</th>\n",
       "      <th>modus različic</th>\n",
       "      <th>povprečje različic</th>\n",
       "    </tr>\n",
       "    <tr>\n",
       "      <th>zanr</th>\n",
       "      <th></th>\n",
       "      <th></th>\n",
       "      <th></th>\n",
       "    </tr>\n",
       "  </thead>\n",
       "  <tbody>\n",
       "    <tr>\n",
       "      <th>Aria</th>\n",
       "      <td>200</td>\n",
       "      <td>1</td>\n",
       "      <td>1.000000</td>\n",
       "    </tr>\n",
       "    <tr>\n",
       "      <th>Cantata</th>\n",
       "      <td>249</td>\n",
       "      <td>4</td>\n",
       "      <td>1.000000</td>\n",
       "    </tr>\n",
       "    <tr>\n",
       "      <th>Chorale</th>\n",
       "      <td>[250, 251, 252, 253, 254, 255, 256, 257, 258, 259, 260, 261, 263, 264, 265, 266, 267, 268, 269, 270, 271, 273, 274, 275, 276, 277, 278, 280, 281, 282, 283, 284, 285, 286, 287, 288, 289, 290, 291, 292, 293, 294, 295, 296, 297, 298, 300, 301, 302, 303, 304, 305, 306, 307, 308, 309, 310, 311, 312, 313, 314, 315, 316, 317, 318, 319, 320, 321, 322, 323, 324, 325, 326, 327, 328, 329, 330, 331, 332, 333, 334, 335, 336, 337, 338, 339, 340, 341, 343, 344, 345, 346, 347, 348, 349, 350, 351, 352, 353, 354, ...]</td>\n",
       "      <td>1</td>\n",
       "      <td>1.000000</td>\n",
       "    </tr>\n",
       "    <tr>\n",
       "      <th>Chorale cantata</th>\n",
       "      <td>[4, 8, 80, 91, 130]</td>\n",
       "      <td>2</td>\n",
       "      <td>1.094340</td>\n",
       "    </tr>\n",
       "    <tr>\n",
       "      <th>Chorale setting</th>\n",
       "      <td>[653, 660]</td>\n",
       "      <td>3</td>\n",
       "      <td>1.144828</td>\n",
       "    </tr>\n",
       "    <tr>\n",
       "      <th>Lied</th>\n",
       "      <td>[439, 440, 441, 442, 443, 444, 445, 446, 447, 448, 449, 450, 451, 452, 453, 454, 455, 456, 457, 458, 459, 460, 461, 462, 463, 464, 465, 466, 467, 468, 469, 470, 471, 472, 473, 474, 475, 476, 477, 478, 479, 480, 481, 482, 483, 484, 485, 486, 487, 488, 489, 490, 491, 492, 493, 494, 495, 496, 497, 498, 499, 500, 501, 502, 503, 504, 505, 506, 507, 508, 509, 510, 511, 512, 513, 514, 515, 516, 517, 518]</td>\n",
       "      <td>1</td>\n",
       "      <td>1.000000</td>\n",
       "    </tr>\n",
       "    <tr>\n",
       "      <th>Magnificat</th>\n",
       "      <td>243</td>\n",
       "      <td>2</td>\n",
       "      <td>2.000000</td>\n",
       "    </tr>\n",
       "    <tr>\n",
       "      <th>Mass</th>\n",
       "      <td>[232, 233]</td>\n",
       "      <td>2</td>\n",
       "      <td>1.222222</td>\n",
       "    </tr>\n",
       "    <tr>\n",
       "      <th>Motet</th>\n",
       "      <td>[118, 225, 226, 227, 228, 229, 230]</td>\n",
       "      <td>1</td>\n",
       "      <td>1.000000</td>\n",
       "    </tr>\n",
       "    <tr>\n",
       "      <th>Music for organ</th>\n",
       "      <td>[532, 535, 543, 545, 549, 574]</td>\n",
       "      <td>2</td>\n",
       "      <td>1.100000</td>\n",
       "    </tr>\n",
       "    <tr>\n",
       "      <th>Oratorio</th>\n",
       "      <td>[11, 248, 249]</td>\n",
       "      <td>1</td>\n",
       "      <td>1.000000</td>\n",
       "    </tr>\n",
       "    <tr>\n",
       "      <th>Passion</th>\n",
       "      <td>245</td>\n",
       "      <td>4</td>\n",
       "      <td>2.333333</td>\n",
       "    </tr>\n",
       "    <tr>\n",
       "      <th>Quodlibet</th>\n",
       "      <td>524</td>\n",
       "      <td>1</td>\n",
       "      <td>1.000000</td>\n",
       "    </tr>\n",
       "    <tr>\n",
       "      <th>Sacred cantata</th>\n",
       "      <td>[21, 23, 82, 120, 172, 194, 195, 199]</td>\n",
       "      <td>3</td>\n",
       "      <td>1.188406</td>\n",
       "    </tr>\n",
       "    <tr>\n",
       "      <th>Secular cantata</th>\n",
       "      <td>[36, 208]</td>\n",
       "      <td>5</td>\n",
       "      <td>1.384615</td>\n",
       "    </tr>\n",
       "    <tr>\n",
       "      <th>Vocal music</th>\n",
       "      <td>50</td>\n",
       "      <td>1</td>\n",
       "      <td>1.000000</td>\n",
       "    </tr>\n",
       "    <tr>\n",
       "      <th>Work for keyboard instruments with or without pedal keyboard</th>\n",
       "      <td>870</td>\n",
       "      <td>3</td>\n",
       "      <td>1.233766</td>\n",
       "    </tr>\n",
       "  </tbody>\n",
       "</table>\n",
       "</div>"
      ],
      "text/plain": [
       "                                                                                                                                                                                                                                                                                                                                                                                                                                                                                                                                                                                    BWV  \\\n",
       "zanr                                                                                                                                                                                                                                                                                                                                                                                                                                                                                                                                                                                      \n",
       "Aria                                                                                                                                                                                                                                                                                                                                                                                                                                                                                                                                                                                200   \n",
       "Cantata                                                                                                                                                                                                                                                                                                                                                                                                                                                                                                                                                                             249   \n",
       "Chorale                                                       [250, 251, 252, 253, 254, 255, 256, 257, 258, 259, 260, 261, 263, 264, 265, 266, 267, 268, 269, 270, 271, 273, 274, 275, 276, 277, 278, 280, 281, 282, 283, 284, 285, 286, 287, 288, 289, 290, 291, 292, 293, 294, 295, 296, 297, 298, 300, 301, 302, 303, 304, 305, 306, 307, 308, 309, 310, 311, 312, 313, 314, 315, 316, 317, 318, 319, 320, 321, 322, 323, 324, 325, 326, 327, 328, 329, 330, 331, 332, 333, 334, 335, 336, 337, 338, 339, 340, 341, 343, 344, 345, 346, 347, 348, 349, 350, 351, 352, 353, 354, ...]   \n",
       "Chorale cantata                                                                                                                                                                                                                                                                                                                                                                                                                                                                                                                                                     [4, 8, 80, 91, 130]   \n",
       "Chorale setting                                                                                                                                                                                                                                                                                                                                                                                                                                                                                                                                                              [653, 660]   \n",
       "Lied                                                                                                                                                                   [439, 440, 441, 442, 443, 444, 445, 446, 447, 448, 449, 450, 451, 452, 453, 454, 455, 456, 457, 458, 459, 460, 461, 462, 463, 464, 465, 466, 467, 468, 469, 470, 471, 472, 473, 474, 475, 476, 477, 478, 479, 480, 481, 482, 483, 484, 485, 486, 487, 488, 489, 490, 491, 492, 493, 494, 495, 496, 497, 498, 499, 500, 501, 502, 503, 504, 505, 506, 507, 508, 509, 510, 511, 512, 513, 514, 515, 516, 517, 518]   \n",
       "Magnificat                                                                                                                                                                                                                                                                                                                                                                                                                                                                                                                                                                          243   \n",
       "Mass                                                                                                                                                                                                                                                                                                                                                                                                                                                                                                                                                                         [232, 233]   \n",
       "Motet                                                                                                                                                                                                                                                                                                                                                                                                                                                                                                                                               [118, 225, 226, 227, 228, 229, 230]   \n",
       "Music for organ                                                                                                                                                                                                                                                                                                                                                                                                                                                                                                                                          [532, 535, 543, 545, 549, 574]   \n",
       "Oratorio                                                                                                                                                                                                                                                                                                                                                                                                                                                                                                                                                                 [11, 248, 249]   \n",
       "Passion                                                                                                                                                                                                                                                                                                                                                                                                                                                                                                                                                                             245   \n",
       "Quodlibet                                                                                                                                                                                                                                                                                                                                                                                                                                                                                                                                                                           524   \n",
       "Sacred cantata                                                                                                                                                                                                                                                                                                                                                                                                                                                                                                                                    [21, 23, 82, 120, 172, 194, 195, 199]   \n",
       "Secular cantata                                                                                                                                                                                                                                                                                                                                                                                                                                                                                                                                                               [36, 208]   \n",
       "Vocal music                                                                                                                                                                                                                                                                                                                                                                                                                                                                                                                                                                          50   \n",
       "Work for keyboard instruments with or without pedal keyboard                                                                                                                                                                                                                                                                                                                                                                                                                                                                                                                        870   \n",
       "\n",
       "                                                              modus različic  \\\n",
       "zanr                                                                           \n",
       "Aria                                                                       1   \n",
       "Cantata                                                                    4   \n",
       "Chorale                                                                    1   \n",
       "Chorale cantata                                                            2   \n",
       "Chorale setting                                                            3   \n",
       "Lied                                                                       1   \n",
       "Magnificat                                                                 2   \n",
       "Mass                                                                       2   \n",
       "Motet                                                                      1   \n",
       "Music for organ                                                            2   \n",
       "Oratorio                                                                   1   \n",
       "Passion                                                                    4   \n",
       "Quodlibet                                                                  1   \n",
       "Sacred cantata                                                             3   \n",
       "Secular cantata                                                            5   \n",
       "Vocal music                                                                1   \n",
       "Work for keyboard instruments with or without pedal keyboard               3   \n",
       "\n",
       "                                                              povprečje različic  \n",
       "zanr                                                                              \n",
       "Aria                                                                    1.000000  \n",
       "Cantata                                                                 1.000000  \n",
       "Chorale                                                                 1.000000  \n",
       "Chorale cantata                                                         1.094340  \n",
       "Chorale setting                                                         1.144828  \n",
       "Lied                                                                    1.000000  \n",
       "Magnificat                                                              2.000000  \n",
       "Mass                                                                    1.222222  \n",
       "Motet                                                                   1.000000  \n",
       "Music for organ                                                         1.100000  \n",
       "Oratorio                                                                1.000000  \n",
       "Passion                                                                 2.333333  \n",
       "Quodlibet                                                               1.000000  \n",
       "Sacred cantata                                                          1.188406  \n",
       "Secular cantata                                                         1.384615  \n",
       "Vocal music                                                             1.000000  \n",
       "Work for keyboard instruments with or without pedal keyboard            1.233766  "
      ]
     },
     "execution_count": 3,
     "metadata": {},
     "output_type": "execute_result"
    }
   ],
   "source": [
    "af.razlicice_zanri()"
   ]
  },
  {
   "cell_type": "markdown",
   "id": "25e45f8f",
   "metadata": {},
   "source": [
    "Naša pričakovanja so bila delno pravilna. Pasijon je vrsta oratorija (nekakšna opera z manj scenografskega spektakla), ki uglasbi Jezusove zadnje trenutke pred smrtjo kot so opisani v izbranem evangeliju, vsekakor zelo kompleksna glasbena oblika. Pasijon ima razumljivo tudi najvišje povprečje različic.\n",
    "\n",
    "Kot smo že zgoraj videli, imajo posvetne kantate skladbo z največ različic in drugim najvišjim povprečjem. Bach je pisal posvetne kantate za razne dogodke kot so praznovanja, poroke, akademsko (za univerzo), zabava plemstva itd., skratka ni presenetljivo, da jih je predeloval, spreminjal in ponovno uporabil kako drugače."
   ]
  },
  {
   "cell_type": "markdown",
   "id": "ebc57e22",
   "metadata": {},
   "source": [
    "Koliko kantat pa je napisal točno?"
   ]
  },
  {
   "cell_type": "code",
   "execution_count": 4,
   "id": "28f3b2b4",
   "metadata": {},
   "outputs": [
    {
     "data": {
      "text/plain": [
       "zanr\n",
       "Chorale setting                                                 220\n",
       "Work for keyboard instruments with or without pedal keyboard    220\n",
       "Chorale                                                         191\n",
       "Sacred cantata                                                  180\n",
       "Music for organ                                                  90\n",
       "Lied                                                             86\n",
       "Chorale cantata                                                  59\n",
       "Secular cantata                                                  36\n",
       "Mass                                                             13\n",
       "Passion                                                           9\n",
       "Motet                                                             8\n",
       "Cantata                                                           3\n",
       "Oratorio                                                          3\n",
       "Magnificat                                                        2\n",
       "Aria                                                              1\n",
       "Vocal music                                                       1\n",
       "Quodlibet                                                         1\n",
       "Work for lute instruments                                         1\n",
       "Name: count, dtype: int64"
      ]
     },
     "execution_count": 4,
     "metadata": {},
     "output_type": "execute_result"
    },
    {
     "data": {
      "image/png": "[encoded data removed]",
      "text/plain": [
       "<Figure size 640x480 with 1 Axes>"
      ]
     },
     "metadata": {},
     "output_type": "display_data"
    }
   ],
   "source": [
    "af.delezi_zanrov_plot()\n",
    "af.skladbe_po_zanri()"
   ]
  },
  {
   "cell_type": "markdown",
   "id": "21af26c9",
   "metadata": {},
   "source": [
    "Vidimo, da jih je napisal kar 259, od tega večino cerkvene. V Leipzigu je bil od leta 1723 do svoje smrti leta 1750 kapelnik in je tako vsako nedeljo izvedel cerkveno kantato, prva leta tam pa je eno napisal vsak teden.\n",
    "\n",
    "\"Chorale setting\" je raznovrsten žanr, kjer je za glasbeno temo vzet koral, preprosta melodija liturgične enoglasne himne. Korali sami ne zaostajajo in tako vidimo globok vpliv cerkvenega življenja na Bachovo glasbo.\n",
    "\n",
    "Izstopa tudi \"delo za inštrumente s tipkami\", za takratni čas čembalo in klavikord. Bachovo najbolj znano delo, priznano kot eno najbolj pomembnih del v zgodovini glasbe, sta dva zvezka *Das wohltemperierte Klavier* (\"Dobro uglašen klavir\"), kjer je za vsako lestvico spisal preludij in fugo, torej skupaj kar 96 skladb."
   ]
  },
  {
   "cell_type": "markdown",
   "id": "7b3da968",
   "metadata": {},
   "source": [
    "Koral kot liturgična himna ima poudarek na besedilu. Poglejmo koliko del vsebuje biblične odlomke:"
   ]
  },
  {
   "cell_type": "code",
   "execution_count": 5,
   "id": "3703c9da",
   "metadata": {},
   "outputs": [
    {
     "data": {
      "text/plain": [
       "213"
      ]
     },
     "execution_count": 5,
     "metadata": {},
     "output_type": "execute_result"
    }
   ],
   "source": [
    "af.skladbe_z_citati()"
   ]
  },
  {
   "cell_type": "markdown",
   "id": "a4f7e09d",
   "metadata": {},
   "source": [
    "To je 1/6 skladb. Pričakujemo, da bodo pete cerkvene skladbe, predvsem korali in kantate, predstavljale večji delež te številke."
   ]
  },
  {
   "cell_type": "code",
   "execution_count": 6,
   "id": "2329d1b1",
   "metadata": {},
   "outputs": [
    {
     "data": {
      "text/html": [
       "<div>\n",
       "<style scoped>\n",
       "    .dataframe tbody tr th:only-of-type {\n",
       "        vertical-align: middle;\n",
       "    }\n",
       "\n",
       "    .dataframe tbody tr th {\n",
       "        vertical-align: top;\n",
       "    }\n",
       "\n",
       "    .dataframe thead th {\n",
       "        text-align: right;\n",
       "    }\n",
       "</style>\n",
       "<table border=\"1\" class=\"dataframe\">\n",
       "  <thead>\n",
       "    <tr style=\"text-align: right;\">\n",
       "      <th>citati biblije</th>\n",
       "      <th>DA</th>\n",
       "      <th>NE</th>\n",
       "    </tr>\n",
       "    <tr>\n",
       "      <th>zanr</th>\n",
       "      <th></th>\n",
       "      <th></th>\n",
       "    </tr>\n",
       "  </thead>\n",
       "  <tbody>\n",
       "    <tr>\n",
       "      <th>Aria</th>\n",
       "      <td>NaN</td>\n",
       "      <td>1.000000</td>\n",
       "    </tr>\n",
       "    <tr>\n",
       "      <th>Cantata</th>\n",
       "      <td>0.333333</td>\n",
       "      <td>0.666667</td>\n",
       "    </tr>\n",
       "    <tr>\n",
       "      <th>Chorale</th>\n",
       "      <td>NaN</td>\n",
       "      <td>1.000000</td>\n",
       "    </tr>\n",
       "    <tr>\n",
       "      <th>Chorale cantata</th>\n",
       "      <td>0.949153</td>\n",
       "      <td>0.050847</td>\n",
       "    </tr>\n",
       "    <tr>\n",
       "      <th>Chorale setting</th>\n",
       "      <td>NaN</td>\n",
       "      <td>1.000000</td>\n",
       "    </tr>\n",
       "    <tr>\n",
       "      <th>Lied</th>\n",
       "      <td>NaN</td>\n",
       "      <td>1.000000</td>\n",
       "    </tr>\n",
       "    <tr>\n",
       "      <th>Magnificat</th>\n",
       "      <td>NaN</td>\n",
       "      <td>1.000000</td>\n",
       "    </tr>\n",
       "    <tr>\n",
       "      <th>Mass</th>\n",
       "      <td>NaN</td>\n",
       "      <td>1.000000</td>\n",
       "    </tr>\n",
       "    <tr>\n",
       "      <th>Motet</th>\n",
       "      <td>NaN</td>\n",
       "      <td>1.000000</td>\n",
       "    </tr>\n",
       "    <tr>\n",
       "      <th>Music for organ</th>\n",
       "      <td>NaN</td>\n",
       "      <td>1.000000</td>\n",
       "    </tr>\n",
       "    <tr>\n",
       "      <th>Oratorio</th>\n",
       "      <td>0.666667</td>\n",
       "      <td>0.333333</td>\n",
       "    </tr>\n",
       "    <tr>\n",
       "      <th>Passion</th>\n",
       "      <td>0.777778</td>\n",
       "      <td>0.222222</td>\n",
       "    </tr>\n",
       "    <tr>\n",
       "      <th>Quodlibet</th>\n",
       "      <td>NaN</td>\n",
       "      <td>1.000000</td>\n",
       "    </tr>\n",
       "    <tr>\n",
       "      <th>Sacred cantata</th>\n",
       "      <td>0.816667</td>\n",
       "      <td>0.183333</td>\n",
       "    </tr>\n",
       "    <tr>\n",
       "      <th>Secular cantata</th>\n",
       "      <td>NaN</td>\n",
       "      <td>1.000000</td>\n",
       "    </tr>\n",
       "    <tr>\n",
       "      <th>Vocal music</th>\n",
       "      <td>NaN</td>\n",
       "      <td>1.000000</td>\n",
       "    </tr>\n",
       "    <tr>\n",
       "      <th>Work for keyboard instruments with or without pedal keyboard</th>\n",
       "      <td>NaN</td>\n",
       "      <td>1.000000</td>\n",
       "    </tr>\n",
       "    <tr>\n",
       "      <th>Work for lute instruments</th>\n",
       "      <td>NaN</td>\n",
       "      <td>1.000000</td>\n",
       "    </tr>\n",
       "  </tbody>\n",
       "</table>\n",
       "</div>"
      ],
      "text/plain": [
       "citati biblije                                                      DA  \\\n",
       "zanr                                                                     \n",
       "Aria                                                               NaN   \n",
       "Cantata                                                       0.333333   \n",
       "Chorale                                                            NaN   \n",
       "Chorale cantata                                               0.949153   \n",
       "Chorale setting                                                    NaN   \n",
       "Lied                                                               NaN   \n",
       "Magnificat                                                         NaN   \n",
       "Mass                                                               NaN   \n",
       "Motet                                                              NaN   \n",
       "Music for organ                                                    NaN   \n",
       "Oratorio                                                      0.666667   \n",
       "Passion                                                       0.777778   \n",
       "Quodlibet                                                          NaN   \n",
       "Sacred cantata                                                0.816667   \n",
       "Secular cantata                                                    NaN   \n",
       "Vocal music                                                        NaN   \n",
       "Work for keyboard instruments with or without pedal keyboard       NaN   \n",
       "Work for lute instruments                                          NaN   \n",
       "\n",
       "citati biblije                                                      NE  \n",
       "zanr                                                                    \n",
       "Aria                                                          1.000000  \n",
       "Cantata                                                       0.666667  \n",
       "Chorale                                                       1.000000  \n",
       "Chorale cantata                                               0.050847  \n",
       "Chorale setting                                               1.000000  \n",
       "Lied                                                          1.000000  \n",
       "Magnificat                                                    1.000000  \n",
       "Mass                                                          1.000000  \n",
       "Motet                                                         1.000000  \n",
       "Music for organ                                               1.000000  \n",
       "Oratorio                                                      0.333333  \n",
       "Passion                                                       0.222222  \n",
       "Quodlibet                                                     1.000000  \n",
       "Sacred cantata                                                0.183333  \n",
       "Secular cantata                                               1.000000  \n",
       "Vocal music                                                   1.000000  \n",
       "Work for keyboard instruments with or without pedal keyboard  1.000000  \n",
       "Work for lute instruments                                     1.000000  "
      ]
     },
     "execution_count": 6,
     "metadata": {},
     "output_type": "execute_result"
    },
    {
     "data": {
      "image/png": "[encoded data removed]",
      "text/plain": [
       "<Figure size 640x480 with 1 Axes>"
      ]
     },
     "metadata": {},
     "output_type": "display_data"
    }
   ],
   "source": [
    "af.razmerje_citati_po_zanri_plot()\n",
    "af.razmerje_citati_po_zanri()"
   ]
  },
  {
   "cell_type": "markdown",
   "id": "e7ca8b25",
   "metadata": {},
   "source": [
    "Spet smo bili delno pravilni. Kantate imajo največji delež del z odlomki iz biblije, medtem ko jih korali kot taki sploh nimajo, četudi imajo liturgična besedila.  \n",
    "Pasijon in oratorij pa črpata vsebino iz bibličnega materiala, zato nista presenetljiva."
   ]
  },
  {
   "cell_type": "markdown",
   "id": "c50f386b",
   "metadata": {},
   "source": [
    "Kantate z bibličnimi odlomki imajo striktno formo: najprej psalm, nato pismo in nazadnje evangelij. Poglejmo katera kombinacija odlomkov je najbolj prilubljena:"
   ]
  },
  {
   "cell_type": "code",
   "execution_count": 7,
   "id": "55335465",
   "metadata": {},
   "outputs": [
    {
     "data": {
      "text/html": [
       "<div>\n",
       "<style scoped>\n",
       "    .dataframe tbody tr th:only-of-type {\n",
       "        vertical-align: middle;\n",
       "    }\n",
       "\n",
       "    .dataframe tbody tr th {\n",
       "        vertical-align: top;\n",
       "    }\n",
       "\n",
       "    .dataframe thead th {\n",
       "        text-align: right;\n",
       "    }\n",
       "</style>\n",
       "<table border=\"1\" class=\"dataframe\">\n",
       "  <thead>\n",
       "    <tr style=\"text-align: right;\">\n",
       "      <th></th>\n",
       "      <th>psalm</th>\n",
       "      <th>pismo</th>\n",
       "      <th>evangelij</th>\n",
       "    </tr>\n",
       "  </thead>\n",
       "  <tbody>\n",
       "    <tr>\n",
       "      <th>0</th>\n",
       "      <td>Psalm 12</td>\n",
       "      <td>1. Korinther 5, 6-8</td>\n",
       "      <td>Markus 16, 1-8</td>\n",
       "    </tr>\n",
       "  </tbody>\n",
       "</table>\n",
       "</div>"
      ],
      "text/plain": [
       "      psalm                pismo       evangelij\n",
       "0  Psalm 12  1. Korinther 5, 6-8  Markus 16, 1-8"
      ]
     },
     "execution_count": 7,
     "metadata": {},
     "output_type": "execute_result"
    }
   ],
   "source": [
    "af.modus_odlomki_skupaj()"
   ]
  },
  {
   "cell_type": "markdown",
   "id": "f5b9f7d8",
   "metadata": {},
   "source": [
    "V Psalm 12 zbor prosi Gospoda naj pomaga, kajti ni več pobožnega in podlost je prišla nad človeške sinove.  \n",
    "Pismo Korinčanom 5 , 6-8 je pridiga, naj ljudje od sebe \"postrgajo stari kvas\", torej greh, da bodo lahko praznovali z \"nekvašenim kruhom iskrenosti in resnice\".  \n",
    "Nazadnje Markov evangelij 16, 1-8 opisuje kako Marija Magdalena, Marija mati Jakobova in Salome nakupijo in nesejo mazila k Jezusovem truplu, ampak najdejo prazen grob in angela, ki jim pove, da je On vstal.\n",
    "\n",
    "Lahko razumemo, zakaj so te trije odlomki tako zelo priljubljeni skupaj. Vendar, kateri posamezni odlomki so najbolj priljubljeni?\n"
   ]
  },
  {
   "cell_type": "code",
   "execution_count": 8,
   "id": "ab0235f4",
   "metadata": {},
   "outputs": [
    {
     "data": {
      "text/html": [
       "<div>\n",
       "<style scoped>\n",
       "    .dataframe tbody tr th:only-of-type {\n",
       "        vertical-align: middle;\n",
       "    }\n",
       "\n",
       "    .dataframe tbody tr th {\n",
       "        vertical-align: top;\n",
       "    }\n",
       "\n",
       "    .dataframe thead th {\n",
       "        text-align: right;\n",
       "    }\n",
       "</style>\n",
       "<table border=\"1\" class=\"dataframe\">\n",
       "  <thead>\n",
       "    <tr style=\"text-align: right;\">\n",
       "      <th></th>\n",
       "      <th>psalm</th>\n",
       "      <th>pismo</th>\n",
       "      <th>evangelij</th>\n",
       "    </tr>\n",
       "  </thead>\n",
       "  <tbody>\n",
       "    <tr>\n",
       "      <th>0</th>\n",
       "      <td>Psalm 12</td>\n",
       "      <td>1. Korinther 5, 6-8</td>\n",
       "      <td>Markus 16, 1-8</td>\n",
       "    </tr>\n",
       "  </tbody>\n",
       "</table>\n",
       "</div>"
      ],
      "text/plain": [
       "      psalm                pismo       evangelij\n",
       "0  Psalm 12  1. Korinther 5, 6-8  Markus 16, 1-8"
      ]
     },
     "execution_count": 8,
     "metadata": {},
     "output_type": "execute_result"
    }
   ],
   "source": [
    "af.modus_odlomki_posebej()"
   ]
  },
  {
   "cell_type": "markdown",
   "id": "791512ba",
   "metadata": {},
   "source": [
    "Resnično so to nasploh najbolj priljubljeni odlomki. Ali je kaj razlike v odlomkih med žanri?"
   ]
  },
  {
   "cell_type": "code",
   "execution_count": 9,
   "id": "3d25185c",
   "metadata": {},
   "outputs": [
    {
     "data": {
      "text/html": [
       "<div>\n",
       "<style scoped>\n",
       "    .dataframe tbody tr th:only-of-type {\n",
       "        vertical-align: middle;\n",
       "    }\n",
       "\n",
       "    .dataframe tbody tr th {\n",
       "        vertical-align: top;\n",
       "    }\n",
       "\n",
       "    .dataframe thead th {\n",
       "        text-align: right;\n",
       "    }\n",
       "</style>\n",
       "<table border=\"1\" class=\"dataframe\">\n",
       "  <thead>\n",
       "    <tr style=\"text-align: right;\">\n",
       "      <th></th>\n",
       "      <th>psalm</th>\n",
       "      <th>pismo</th>\n",
       "      <th>evangelij</th>\n",
       "    </tr>\n",
       "    <tr>\n",
       "      <th>zanr</th>\n",
       "      <th></th>\n",
       "      <th></th>\n",
       "      <th></th>\n",
       "    </tr>\n",
       "  </thead>\n",
       "  <tbody>\n",
       "    <tr>\n",
       "      <th>Cantata</th>\n",
       "      <td>Psalm 110</td>\n",
       "      <td>1. Korinther 5, 6-8</td>\n",
       "      <td>Markus 16, 1-8</td>\n",
       "    </tr>\n",
       "    <tr>\n",
       "      <th>Chorale cantata</th>\n",
       "      <td>Psalm 12</td>\n",
       "      <td>[1. Korinther 5, 6-8, Epheser 3, 13-21, Maleachi 3, 1-4, Offenbarung 12, 7-12, Offenbarung 14, 6-7, R&amp;ouml;mer 11, 33-36, Titus 2, Vers 11&amp;ndash;14]</td>\n",
       "      <td>[Johannes 3, 1-15, Lukas 2, 22-32, Lukas 2, Vers 1&amp;ndash;14, Lukas 7, 11-17, Markus 16, 1-8, Matth&amp;auml;us 11, 12-15, Matth&amp;auml;us 18, 1-11]</td>\n",
       "    </tr>\n",
       "    <tr>\n",
       "      <th>Oratorio</th>\n",
       "      <td>[Psalm 110, Psalm 32]</td>\n",
       "      <td>[1. Korinther 5, 6-8, Apostelgeschichte 1, 1-11]</td>\n",
       "      <td>[Markus 16, 1-8, Markus 16, 14-20]</td>\n",
       "    </tr>\n",
       "    <tr>\n",
       "      <th>Passion</th>\n",
       "      <td>Psalm 22</td>\n",
       "      <td>Jesaja 53</td>\n",
       "      <td>Johannes 18-19</td>\n",
       "    </tr>\n",
       "    <tr>\n",
       "      <th>Sacred cantata</th>\n",
       "      <td>Psalm 12</td>\n",
       "      <td>Apostelgeschichte 2, 1-13</td>\n",
       "      <td>Johannes 14, 23-31</td>\n",
       "    </tr>\n",
       "  </tbody>\n",
       "</table>\n",
       "</div>"
      ],
      "text/plain": [
       "                                 psalm  \\\n",
       "zanr                                     \n",
       "Cantata                      Psalm 110   \n",
       "Chorale cantata               Psalm 12   \n",
       "Oratorio         [Psalm 110, Psalm 32]   \n",
       "Passion                       Psalm 22   \n",
       "Sacred cantata                Psalm 12   \n",
       "\n",
       "                                                                                                                                                                pismo  \\\n",
       "zanr                                                                                                                                                                    \n",
       "Cantata                                                                                                                                           1. Korinther 5, 6-8   \n",
       "Chorale cantata  [1. Korinther 5, 6-8, Epheser 3, 13-21, Maleachi 3, 1-4, Offenbarung 12, 7-12, Offenbarung 14, 6-7, R&ouml;mer 11, 33-36, Titus 2, Vers 11&ndash;14]   \n",
       "Oratorio                                                                                                             [1. Korinther 5, 6-8, Apostelgeschichte 1, 1-11]   \n",
       "Passion                                                                                                                                                     Jesaja 53   \n",
       "Sacred cantata                                                                                                                              Apostelgeschichte 2, 1-13   \n",
       "\n",
       "                                                                                                                                                     evangelij  \n",
       "zanr                                                                                                                                                            \n",
       "Cantata                                                                                                                                         Markus 16, 1-8  \n",
       "Chorale cantata  [Johannes 3, 1-15, Lukas 2, 22-32, Lukas 2, Vers 1&ndash;14, Lukas 7, 11-17, Markus 16, 1-8, Matth&auml;us 11, 12-15, Matth&auml;us 18, 1-11]  \n",
       "Oratorio                                                                                                                    [Markus 16, 1-8, Markus 16, 14-20]  \n",
       "Passion                                                                                                                                         Johannes 18-19  \n",
       "Sacred cantata                                                                                                                              Johannes 14, 23-31  "
      ]
     },
     "execution_count": 9,
     "metadata": {},
     "output_type": "execute_result"
    }
   ],
   "source": [
    "af.modus_odlomki_po_zanru()"
   ]
  },
  {
   "cell_type": "markdown",
   "id": "f695c8db",
   "metadata": {},
   "source": [
    "Ugibam, da so razlike med odlomki najverjetneje zaradi različnih namenov oziroma vsebin. Cerkvene kantate so izvajane vsako nedeljo cerkveni skupnosti. Pasijoni in oratoriji pa imajo zaključeno zgodbo, npr. Jezusovi trenutki pred smrtjo. "
   ]
  },
  {
   "cell_type": "markdown",
   "id": "909fddb8",
   "metadata": {},
   "source": [
    "Ali se je Bachov okus za ta besedila kaj spremenil skozi leta?\n",
    "\n",
    "**Opomba: podatki o času nastanka so nenatančni, saj ima vir zelo raznolike sintaktične oblike. Nekatera dela tudi nimajo točnega časa nastanka, ampak približke kot so \"pred 1725\". Zato skripta pobere samo prvo 4-mestno številko.**"
   ]
  },
  {
   "cell_type": "code",
   "execution_count": 10,
   "id": "e0c552d4",
   "metadata": {},
   "outputs": [
    {
     "data": {
      "text/html": [
       "<div>\n",
       "<style scoped>\n",
       "    .dataframe tbody tr th:only-of-type {\n",
       "        vertical-align: middle;\n",
       "    }\n",
       "\n",
       "    .dataframe tbody tr th {\n",
       "        vertical-align: top;\n",
       "    }\n",
       "\n",
       "    .dataframe thead th {\n",
       "        text-align: right;\n",
       "    }\n",
       "</style>\n",
       "<table border=\"1\" class=\"dataframe\">\n",
       "  <thead>\n",
       "    <tr style=\"text-align: right;\">\n",
       "      <th></th>\n",
       "      <th>psalm</th>\n",
       "      <th>pismo</th>\n",
       "      <th>evangelij</th>\n",
       "    </tr>\n",
       "    <tr>\n",
       "      <th>leto</th>\n",
       "      <th></th>\n",
       "      <th></th>\n",
       "      <th></th>\n",
       "    </tr>\n",
       "  </thead>\n",
       "  <tbody>\n",
       "    <tr>\n",
       "      <th>1707.0</th>\n",
       "      <td>Psalm 110</td>\n",
       "      <td>1. Korinther 5, 6-8</td>\n",
       "      <td>Markus 16, 1-8</td>\n",
       "    </tr>\n",
       "    <tr>\n",
       "      <th>1712.0</th>\n",
       "      <td>Psalm 130</td>\n",
       "      <td>1. Korinther 15, 1-10</td>\n",
       "      <td>Lukas 18, 9-14</td>\n",
       "    </tr>\n",
       "    <tr>\n",
       "      <th>1713.0</th>\n",
       "      <td>Psalm 1</td>\n",
       "      <td>2. Korinther 11, 19-33; 12, 1-9</td>\n",
       "      <td>Lukas 8, 4-15</td>\n",
       "    </tr>\n",
       "    <tr>\n",
       "      <th>1714.0</th>\n",
       "      <td>Psalm 92</td>\n",
       "      <td>[1. Petrus 2, 11-17, Apostelgeschichte 2, 1-13, Galater 4, 1-7, Philipper 2, 5-11, R&amp;ouml;mer 13, 11-14, Titus 2, Vers 11&amp;ndash;14]</td>\n",
       "      <td>Matth&amp;auml;us 21, 1-9</td>\n",
       "    </tr>\n",
       "    <tr>\n",
       "      <th>1715.0</th>\n",
       "      <td>[Psalm 110, Psalm 112, Psalm 24, Psalm 27, Psalm 85]</td>\n",
       "      <td>[1. Korinther 5, 6-8, Philipper 3, 17-21, Philipper 4, 4-7, R&amp;ouml;mer 11, 33-36, R&amp;ouml;mer 8, 18-23]</td>\n",
       "      <td>[Johannes 1, 19-28, Johannes 3, 1-15, Lukas 6, 36-42, Markus 16, 1-8, Matth&amp;auml;us 22, 15-22]</td>\n",
       "    </tr>\n",
       "    <tr>\n",
       "      <th>1716.0</th>\n",
       "      <td>[Psalm 127, Psalm 50, Psalm 90]</td>\n",
       "      <td>[Epheser 3, 13-21, R&amp;ouml;mer 12, 7-16, R&amp;ouml;mer 15, 4-13]</td>\n",
       "      <td>[Johannes 2, 1-11, Lukas 21, 25-36, Lukas 7, 11-17]</td>\n",
       "    </tr>\n",
       "    <tr>\n",
       "      <th>1718.0</th>\n",
       "      <td>Psalm 51</td>\n",
       "      <td>Apostelgeschichte 2, 1-13</td>\n",
       "      <td>Johannes 14, 23-31</td>\n",
       "    </tr>\n",
       "    <tr>\n",
       "      <th>1720.0</th>\n",
       "      <td>Psalm 130</td>\n",
       "      <td>1. Korinther 15, 1-10</td>\n",
       "      <td>Lukas 18, 9-14</td>\n",
       "    </tr>\n",
       "    <tr>\n",
       "      <th>1723.0</th>\n",
       "      <td>Psalm 31</td>\n",
       "      <td>1. Korinther 13, 1-13</td>\n",
       "      <td>Lukas 18, 31-43</td>\n",
       "    </tr>\n",
       "    <tr>\n",
       "      <th>1724.0</th>\n",
       "      <td>Psalm 110</td>\n",
       "      <td>[1. Korinther 5, 6-8, 2. Korinther 11, 19-33; 12, 1-9]</td>\n",
       "      <td>[Lukas 8, 4-15, Markus 16, 1-8]</td>\n",
       "    </tr>\n",
       "    <tr>\n",
       "      <th>1725.0</th>\n",
       "      <td>[Psalm 110, Psalm 121, Psalm 34, Psalm 50, Psalm 98]</td>\n",
       "      <td>R&amp;ouml;mer 12, 1-6</td>\n",
       "      <td>Lukas 2, 41-52</td>\n",
       "    </tr>\n",
       "    <tr>\n",
       "      <th>1726.0</th>\n",
       "      <td>[Psalm 27, Psalm 34, Psalm 39]</td>\n",
       "      <td>R&amp;ouml;mer 11, 33-36</td>\n",
       "      <td>Johannes 3, 1-15</td>\n",
       "    </tr>\n",
       "    <tr>\n",
       "      <th>1727.0</th>\n",
       "      <td>Psalm 12</td>\n",
       "      <td>Maleachi 3, 1-4</td>\n",
       "      <td>Lukas 2, 22-32</td>\n",
       "    </tr>\n",
       "    <tr>\n",
       "      <th>1728.0</th>\n",
       "      <td>[Psalm 31, Psalm 39, Psalm 91, Psalm 92]</td>\n",
       "      <td>[1. Korinther 13, 1-13, Epheser 6, 10-17, Offenbarung 12, 7-12, Titus 2, Vers 11&amp;ndash;14]</td>\n",
       "      <td>[Johannes 4, 47-54, Lukas 18, 31-43, Lukas 2, Vers 1&amp;ndash;14, Matth&amp;auml;us 18, 1-11]</td>\n",
       "    </tr>\n",
       "    <tr>\n",
       "      <th>1729.0</th>\n",
       "      <td>[Psalm 34, Psalm 46?]</td>\n",
       "      <td>[Galater 3, 23-29, Offenbarung 14, 6-7]</td>\n",
       "      <td>[Lukas 2, 21, Matth&amp;auml;us 11, 12-15]</td>\n",
       "    </tr>\n",
       "    <tr>\n",
       "      <th>1730.0</th>\n",
       "      <td>[Psalm 22, Psalm 23, Psalm 27]</td>\n",
       "      <td>[Galater 5, 25-26; 6, 1-10, Jesaja 53, R&amp;ouml;mer 11, 33-36]</td>\n",
       "      <td>[Johannes 18-19, Johannes 3, 1-15, Matth&amp;auml;us 6, 24-34]</td>\n",
       "    </tr>\n",
       "    <tr>\n",
       "      <th>1731.0</th>\n",
       "      <td>[Psalm 102, Psalm 12, Psalm 16, Psalm 22, Psalm 23, Psalm 51]</td>\n",
       "      <td>[1. Petrus, 2, 21-25, Apostelgeschichte 13, 26-33, Apostelgeschichte 2, 1-13, Jesaja 53, Maleachi 3, 1-4, R&amp;ouml;mer 13, 11-14]</td>\n",
       "      <td>[Johannes 10, 12-16, Johannes 14, 23-31, Johannes 18-19, Lukas 2, 22-32, Lukas 24, 36-47, Matth&amp;auml;us 21, 1-9]</td>\n",
       "    </tr>\n",
       "    <tr>\n",
       "      <th>1732.0</th>\n",
       "      <td>Psalm 112</td>\n",
       "      <td>R&amp;ouml;mer 8, 18-23</td>\n",
       "      <td>Lukas 6, 36-42</td>\n",
       "    </tr>\n",
       "    <tr>\n",
       "      <th>1734.0</th>\n",
       "      <td>[Psalm 33, Psalm 62]</td>\n",
       "      <td>[1. Petrus 4, 12-19, R&amp;ouml;mer 6, 3-11]</td>\n",
       "      <td>[Matth&amp;auml;us 2, 13-23, Matth&amp;auml;us 5, 20-26]</td>\n",
       "    </tr>\n",
       "    <tr>\n",
       "      <th>1735.0</th>\n",
       "      <td>Psalm 46</td>\n",
       "      <td>R&amp;ouml;mer 13, 8-10</td>\n",
       "      <td>Matth&amp;auml;us 8, 23-27</td>\n",
       "    </tr>\n",
       "    <tr>\n",
       "      <th>1736.0</th>\n",
       "      <td>[Psalm 12, Psalm 22]</td>\n",
       "      <td>[Jesaja 53, Maleachi 3, 1-4]</td>\n",
       "      <td>[Johannes 18-19, Lukas 2, 22-32]</td>\n",
       "    </tr>\n",
       "    <tr>\n",
       "      <th>1738.0</th>\n",
       "      <td>Psalm 33</td>\n",
       "      <td>Jesaja 40, 1-5</td>\n",
       "      <td>Lukas 1, 57-80</td>\n",
       "    </tr>\n",
       "    <tr>\n",
       "      <th>1742.0</th>\n",
       "      <td>Psalm 92</td>\n",
       "      <td>Titus 2, Vers 11&amp;ndash;14</td>\n",
       "      <td>Lukas 2, Vers 1&amp;ndash;14</td>\n",
       "    </tr>\n",
       "    <tr>\n",
       "      <th>1743.0</th>\n",
       "      <td>Psalm 110</td>\n",
       "      <td>1. Korinther 5, 6-8</td>\n",
       "      <td>Markus 16, 1-8</td>\n",
       "    </tr>\n",
       "    <tr>\n",
       "      <th>1746.0</th>\n",
       "      <td>Psalm 92</td>\n",
       "      <td>Titus 2, Vers 11&amp;ndash;14</td>\n",
       "      <td>Lukas 2, Vers 1&amp;ndash;14</td>\n",
       "    </tr>\n",
       "    <tr>\n",
       "      <th>1747.0</th>\n",
       "      <td>Psalm 90</td>\n",
       "      <td>Epheser 3, 13-21</td>\n",
       "      <td>Lukas 7, 11-17</td>\n",
       "    </tr>\n",
       "    <tr>\n",
       "      <th>1749.0</th>\n",
       "      <td>Psalm 22</td>\n",
       "      <td>Jesaja 53</td>\n",
       "      <td>Johannes 18-19</td>\n",
       "    </tr>\n",
       "  </tbody>\n",
       "</table>\n",
       "</div>"
      ],
      "text/plain": [
       "                                                                psalm  \\\n",
       "leto                                                                    \n",
       "1707.0                                                      Psalm 110   \n",
       "1712.0                                                      Psalm 130   \n",
       "1713.0                                                        Psalm 1   \n",
       "1714.0                                                       Psalm 92   \n",
       "1715.0           [Psalm 110, Psalm 112, Psalm 24, Psalm 27, Psalm 85]   \n",
       "1716.0                                [Psalm 127, Psalm 50, Psalm 90]   \n",
       "1718.0                                                       Psalm 51   \n",
       "1720.0                                                      Psalm 130   \n",
       "1723.0                                                       Psalm 31   \n",
       "1724.0                                                      Psalm 110   \n",
       "1725.0           [Psalm 110, Psalm 121, Psalm 34, Psalm 50, Psalm 98]   \n",
       "1726.0                                 [Psalm 27, Psalm 34, Psalm 39]   \n",
       "1727.0                                                       Psalm 12   \n",
       "1728.0                       [Psalm 31, Psalm 39, Psalm 91, Psalm 92]   \n",
       "1729.0                                          [Psalm 34, Psalm 46?]   \n",
       "1730.0                                 [Psalm 22, Psalm 23, Psalm 27]   \n",
       "1731.0  [Psalm 102, Psalm 12, Psalm 16, Psalm 22, Psalm 23, Psalm 51]   \n",
       "1732.0                                                      Psalm 112   \n",
       "1734.0                                           [Psalm 33, Psalm 62]   \n",
       "1735.0                                                       Psalm 46   \n",
       "1736.0                                           [Psalm 12, Psalm 22]   \n",
       "1738.0                                                       Psalm 33   \n",
       "1742.0                                                       Psalm 92   \n",
       "1743.0                                                      Psalm 110   \n",
       "1746.0                                                       Psalm 92   \n",
       "1747.0                                                       Psalm 90   \n",
       "1749.0                                                       Psalm 22   \n",
       "\n",
       "                                                                                                                                      pismo  \\\n",
       "leto                                                                                                                                          \n",
       "1707.0                                                                                                                  1. Korinther 5, 6-8   \n",
       "1712.0                                                                                                                1. Korinther 15, 1-10   \n",
       "1713.0                                                                                                      2. Korinther 11, 19-33; 12, 1-9   \n",
       "1714.0  [1. Petrus 2, 11-17, Apostelgeschichte 2, 1-13, Galater 4, 1-7, Philipper 2, 5-11, R&ouml;mer 13, 11-14, Titus 2, Vers 11&ndash;14]   \n",
       "1715.0                               [1. Korinther 5, 6-8, Philipper 3, 17-21, Philipper 4, 4-7, R&ouml;mer 11, 33-36, R&ouml;mer 8, 18-23]   \n",
       "1716.0                                                                         [Epheser 3, 13-21, R&ouml;mer 12, 7-16, R&ouml;mer 15, 4-13]   \n",
       "1718.0                                                                                                            Apostelgeschichte 2, 1-13   \n",
       "1720.0                                                                                                                1. Korinther 15, 1-10   \n",
       "1723.0                                                                                                                1. Korinther 13, 1-13   \n",
       "1724.0                                                                               [1. Korinther 5, 6-8, 2. Korinther 11, 19-33; 12, 1-9]   \n",
       "1725.0                                                                                                                   R&ouml;mer 12, 1-6   \n",
       "1726.0                                                                                                                 R&ouml;mer 11, 33-36   \n",
       "1727.0                                                                                                                      Maleachi 3, 1-4   \n",
       "1728.0                                           [1. Korinther 13, 1-13, Epheser 6, 10-17, Offenbarung 12, 7-12, Titus 2, Vers 11&ndash;14]   \n",
       "1729.0                                                                                              [Galater 3, 23-29, Offenbarung 14, 6-7]   \n",
       "1730.0                                                                         [Galater 5, 25-26; 6, 1-10, Jesaja 53, R&ouml;mer 11, 33-36]   \n",
       "1731.0      [1. Petrus, 2, 21-25, Apostelgeschichte 13, 26-33, Apostelgeschichte 2, 1-13, Jesaja 53, Maleachi 3, 1-4, R&ouml;mer 13, 11-14]   \n",
       "1732.0                                                                                                                  R&ouml;mer 8, 18-23   \n",
       "1734.0                                                                                             [1. Petrus 4, 12-19, R&ouml;mer 6, 3-11]   \n",
       "1735.0                                                                                                                  R&ouml;mer 13, 8-10   \n",
       "1736.0                                                                                                         [Jesaja 53, Maleachi 3, 1-4]   \n",
       "1738.0                                                                                                                       Jesaja 40, 1-5   \n",
       "1742.0                                                                                                            Titus 2, Vers 11&ndash;14   \n",
       "1743.0                                                                                                                  1. Korinther 5, 6-8   \n",
       "1746.0                                                                                                            Titus 2, Vers 11&ndash;14   \n",
       "1747.0                                                                                                                     Epheser 3, 13-21   \n",
       "1749.0                                                                                                                            Jesaja 53   \n",
       "\n",
       "                                                                                                               evangelij  \n",
       "leto                                                                                                                      \n",
       "1707.0                                                                                                    Markus 16, 1-8  \n",
       "1712.0                                                                                                    Lukas 18, 9-14  \n",
       "1713.0                                                                                                     Lukas 8, 4-15  \n",
       "1714.0                                                                                             Matth&auml;us 21, 1-9  \n",
       "1715.0                    [Johannes 1, 19-28, Johannes 3, 1-15, Lukas 6, 36-42, Markus 16, 1-8, Matth&auml;us 22, 15-22]  \n",
       "1716.0                                                               [Johannes 2, 1-11, Lukas 21, 25-36, Lukas 7, 11-17]  \n",
       "1718.0                                                                                                Johannes 14, 23-31  \n",
       "1720.0                                                                                                    Lukas 18, 9-14  \n",
       "1723.0                                                                                                   Lukas 18, 31-43  \n",
       "1724.0                                                                                   [Lukas 8, 4-15, Markus 16, 1-8]  \n",
       "1725.0                                                                                                    Lukas 2, 41-52  \n",
       "1726.0                                                                                                  Johannes 3, 1-15  \n",
       "1727.0                                                                                                    Lukas 2, 22-32  \n",
       "1728.0                            [Johannes 4, 47-54, Lukas 18, 31-43, Lukas 2, Vers 1&ndash;14, Matth&auml;us 18, 1-11]  \n",
       "1729.0                                                                            [Lukas 2, 21, Matth&auml;us 11, 12-15]  \n",
       "1730.0                                                        [Johannes 18-19, Johannes 3, 1-15, Matth&auml;us 6, 24-34]  \n",
       "1731.0  [Johannes 10, 12-16, Johannes 14, 23-31, Johannes 18-19, Lukas 2, 22-32, Lukas 24, 36-47, Matth&auml;us 21, 1-9]  \n",
       "1732.0                                                                                                    Lukas 6, 36-42  \n",
       "1734.0                                                                  [Matth&auml;us 2, 13-23, Matth&auml;us 5, 20-26]  \n",
       "1735.0                                                                                            Matth&auml;us 8, 23-27  \n",
       "1736.0                                                                                  [Johannes 18-19, Lukas 2, 22-32]  \n",
       "1738.0                                                                                                    Lukas 1, 57-80  \n",
       "1742.0                                                                                          Lukas 2, Vers 1&ndash;14  \n",
       "1743.0                                                                                                    Markus 16, 1-8  \n",
       "1746.0                                                                                          Lukas 2, Vers 1&ndash;14  \n",
       "1747.0                                                                                                    Lukas 7, 11-17  \n",
       "1749.0                                                                                                    Johannes 18-19  "
      ]
     },
     "execution_count": 10,
     "metadata": {},
     "output_type": "execute_result"
    }
   ],
   "source": [
    "af.modus_odlomki_po_letu()"
   ]
  },
  {
   "cell_type": "markdown",
   "id": "b4cd2956",
   "metadata": {},
   "source": [
    "Kot vidimo, je imel zelo raznovrstno izbiro skozi leta, ampak kljub temu so Psalm 12, 1. Korinther 5, 6-8 in Markus 16, 1-8 najbolj priljubljeni."
   ]
  },
  {
   "cell_type": "markdown",
   "id": "503a0216",
   "metadata": {},
   "source": [
    "Bach je znan po svojem izjemno obsežnem opusu; tu obdelujemo več kot 1000 njegovih del. Poglejmo njegovo produktivnost na leto:"
   ]
  },
  {
   "cell_type": "code",
   "execution_count": 11,
   "id": "e633995a",
   "metadata": {},
   "outputs": [
    {
     "data": {
      "text/plain": [
       "'modus skladb na leto: 1736'"
      ]
     },
     "execution_count": 11,
     "metadata": {},
     "output_type": "execute_result"
    },
    {
     "data": {
      "image/png": "[encoded data removed]",
      "text/plain": [
       "<Figure size 640x480 with 1 Axes>"
      ]
     },
     "metadata": {},
     "output_type": "display_data"
    }
   ],
   "source": [
    "af.skladbe_na_leto()\n",
    "af.modus_skladbe_na_leto()"
   ]
  },
  {
   "cell_type": "markdown",
   "id": "b02c9e4a",
   "metadata": {},
   "source": [
    "Vidimo, da je 1736 njegovo najbolj produktivno leto. Takrat ga je Avgust III. Poljski imenoval za dvornega skladatelja in je med drugim pisal drugi zvezek dobro uglašenega klavirja. Večino so pa zaslužene pesmi (\"lied\", glas s spremljavo) za katere piše, da so nastale \"pred aprilom 1736\". Tu se vidi nenatančnost podatkov.  \n",
    "Izstopa tudi leto 1723, ko je prevzel vlogo kapelnika v Leipzigu. Tista 3 leta tam je, poleg drugih kompozicij, vsak teden napisal eno kantato.  "
   ]
  },
  {
   "cell_type": "markdown",
   "id": "db2c3171",
   "metadata": {},
   "source": [
    "Kako inštrumentalno obsežna pa so bila njegova dela? Večje, kompleksnejše skladbe kot so pasijoni, oratoriji ter maše, pričakujemo da bodo napisane v srednjih oz. poznih letih."
   ]
  },
  {
   "cell_type": "code",
   "execution_count": 12,
   "id": "5eeb8936",
   "metadata": {},
   "outputs": [
    {
     "data": {
      "text/plain": [
       "<Axes: xlabel='leto'>"
      ]
     },
     "execution_count": 12,
     "metadata": {},
     "output_type": "execute_result"
    },
    {
     "data": {
      "image/png": "[encoded data removed]",
      "text/plain": [
       "<Figure size 640x480 with 1 Axes>"
      ]
     },
     "metadata": {},
     "output_type": "display_data"
    }
   ],
   "source": [
    "af.povprecna_velikost_zasedbe_po_letu()"
   ]
  },
  {
   "cell_type": "markdown",
   "id": "b18d0012",
   "metadata": {},
   "source": [
    "Njegova srednja leta so videla zelo obsežne skladbe, kot je pasijon po Mateju. A v oči bode obdobje tik pred smrtjo, kar je s tako veliko zasedbo lahko samo maša v b-molu, eno njegovih najveličastnejših del, ki jo mnogi postavljajo na sam vrh glasbene umetnosti. V celoti izvedena je bila šele leta 1859, 110 let po njenem nastanku."
   ]
  },
  {
   "cell_type": "markdown",
   "id": "97c813b1",
   "metadata": {},
   "source": [
    "Tu se samo od sebe postavi vprašanje povezave med žanrom in velikostjo zasedbe. Pasijon verjetno zahteva več glasbenikov kot skladba za solo klavir."
   ]
  },
  {
   "cell_type": "code",
   "execution_count": 13,
   "id": "3c0b6cb4",
   "metadata": {},
   "outputs": [
    {
     "data": {
      "text/html": [
       "<div>\n",
       "<style scoped>\n",
       "    .dataframe tbody tr th:only-of-type {\n",
       "        vertical-align: middle;\n",
       "    }\n",
       "\n",
       "    .dataframe tbody tr th {\n",
       "        vertical-align: top;\n",
       "    }\n",
       "\n",
       "    .dataframe thead th {\n",
       "        text-align: right;\n",
       "    }\n",
       "</style>\n",
       "<table border=\"1\" class=\"dataframe\">\n",
       "  <thead>\n",
       "    <tr style=\"text-align: right;\">\n",
       "      <th></th>\n",
       "      <th>povprečje</th>\n",
       "    </tr>\n",
       "    <tr>\n",
       "      <th>zanr</th>\n",
       "      <th></th>\n",
       "    </tr>\n",
       "  </thead>\n",
       "  <tbody>\n",
       "    <tr>\n",
       "      <th>Aria</th>\n",
       "      <td>4.000000</td>\n",
       "    </tr>\n",
       "    <tr>\n",
       "      <th>Cantata</th>\n",
       "      <td>12.000000</td>\n",
       "    </tr>\n",
       "    <tr>\n",
       "      <th>Chorale</th>\n",
       "      <td>4.151832</td>\n",
       "    </tr>\n",
       "    <tr>\n",
       "      <th>Chorale cantata</th>\n",
       "      <td>16.169492</td>\n",
       "    </tr>\n",
       "    <tr>\n",
       "      <th>Chorale setting</th>\n",
       "      <td>1.000000</td>\n",
       "    </tr>\n",
       "    <tr>\n",
       "      <th>Lied</th>\n",
       "      <td>2.000000</td>\n",
       "    </tr>\n",
       "    <tr>\n",
       "      <th>Magnificat</th>\n",
       "      <td>25.000000</td>\n",
       "    </tr>\n",
       "    <tr>\n",
       "      <th>Mass</th>\n",
       "      <td>14.307692</td>\n",
       "    </tr>\n",
       "    <tr>\n",
       "      <th>Motet</th>\n",
       "      <td>8.250000</td>\n",
       "    </tr>\n",
       "    <tr>\n",
       "      <th>Music for organ</th>\n",
       "      <td>1.055556</td>\n",
       "    </tr>\n",
       "    <tr>\n",
       "      <th>Oratorio</th>\n",
       "      <td>21.666667</td>\n",
       "    </tr>\n",
       "    <tr>\n",
       "      <th>Passion</th>\n",
       "      <td>25.555556</td>\n",
       "    </tr>\n",
       "    <tr>\n",
       "      <th>Quodlibet</th>\n",
       "      <td>5.000000</td>\n",
       "    </tr>\n",
       "    <tr>\n",
       "      <th>Sacred cantata</th>\n",
       "      <td>14.627778</td>\n",
       "    </tr>\n",
       "    <tr>\n",
       "      <th>Secular cantata</th>\n",
       "      <td>13.944444</td>\n",
       "    </tr>\n",
       "    <tr>\n",
       "      <th>Vocal music</th>\n",
       "      <td>19.000000</td>\n",
       "    </tr>\n",
       "    <tr>\n",
       "      <th>Work for keyboard instruments with or without pedal keyboard</th>\n",
       "      <td>1.000000</td>\n",
       "    </tr>\n",
       "    <tr>\n",
       "      <th>Work for lute instruments</th>\n",
       "      <td>1.000000</td>\n",
       "    </tr>\n",
       "  </tbody>\n",
       "</table>\n",
       "</div>"
      ],
      "text/plain": [
       "                                                              povprečje\n",
       "zanr                                                                   \n",
       "Aria                                                           4.000000\n",
       "Cantata                                                       12.000000\n",
       "Chorale                                                        4.151832\n",
       "Chorale cantata                                               16.169492\n",
       "Chorale setting                                                1.000000\n",
       "Lied                                                           2.000000\n",
       "Magnificat                                                    25.000000\n",
       "Mass                                                          14.307692\n",
       "Motet                                                          8.250000\n",
       "Music for organ                                                1.055556\n",
       "Oratorio                                                      21.666667\n",
       "Passion                                                       25.555556\n",
       "Quodlibet                                                      5.000000\n",
       "Sacred cantata                                                14.627778\n",
       "Secular cantata                                               13.944444\n",
       "Vocal music                                                   19.000000\n",
       "Work for keyboard instruments with or without pedal keyboard   1.000000\n",
       "Work for lute instruments                                      1.000000"
      ]
     },
     "execution_count": 13,
     "metadata": {},
     "output_type": "execute_result"
    },
    {
     "data": {
      "image/png": "[encoded data removed]",
      "text/plain": [
       "<Figure size 640x480 with 1 Axes>"
      ]
     },
     "metadata": {},
     "output_type": "display_data"
    }
   ],
   "source": [
    "af.povprecna_velikost_zasedbe_po_zanru_plot()\n",
    "af.povprecna_velikost_zasedbe_po_zanru()"
   ]
  },
  {
   "cell_type": "markdown",
   "id": "15fca6e3",
   "metadata": {},
   "source": [
    "Pasijon ima največjo povprečno zasedbo, mnogo večjo kot delo za inštrumente s tipkami. Pričakovanja so bila pravilna.  \n",
    "Vidimo tudi, da maša nima v povprečju tako obsežne zasedbe. Maša v b-molu je potemtakem izjema.  \n",
    "Magnifikat je Marijina hvalnica. Bach je napisal samo 2 in to z zborom, orkestrom in solisti, zato izstopa."
   ]
  },
  {
   "cell_type": "markdown",
   "id": "8b77f32c",
   "metadata": {},
   "source": [
    "Skladba z največjo zasedbo je naslednja:"
   ]
  },
  {
   "cell_type": "code",
   "execution_count": 14,
   "id": "60906a84",
   "metadata": {},
   "outputs": [
    {
     "data": {
      "text/html": [
       "<div>\n",
       "<style scoped>\n",
       "    .dataframe tbody tr th:only-of-type {\n",
       "        vertical-align: middle;\n",
       "    }\n",
       "\n",
       "    .dataframe tbody tr th {\n",
       "        vertical-align: top;\n",
       "    }\n",
       "\n",
       "    .dataframe thead th {\n",
       "        text-align: right;\n",
       "    }\n",
       "</style>\n",
       "<table border=\"1\" class=\"dataframe\">\n",
       "  <thead>\n",
       "    <tr style=\"text-align: right;\">\n",
       "      <th></th>\n",
       "      <th>naslov</th>\n",
       "      <th>zasedba</th>\n",
       "      <th>velikost</th>\n",
       "    </tr>\n",
       "    <tr>\n",
       "      <th>sifra</th>\n",
       "      <th></th>\n",
       "      <th></th>\n",
       "      <th></th>\n",
       "    </tr>\n",
       "  </thead>\n",
       "  <tbody>\n",
       "    <tr>\n",
       "      <th>304</th>\n",
       "      <td>St. Matthew passion (Neufassung)</td>\n",
       "      <td>Soprano solo, Soprano solo, Alto solo, Alto solo, Tenore solo, Tenore solo, Basso solo, Basso solo, Soprano, Soprano, Alto, Alto, Tenore, Tenore, Basso, Basso, Flauto traverso, Flauto traverso, Flauto traverso, Flauto traverso, Flauto dolce, Flauto dolce, Oboe, Oboe, Oboe, Oboe, Oboe d'amore, Oboe d'amore, Oboe d'amore, Oboe d'amore, Oboe da caccia, Oboe da caccia, Violino, Violino, Violino, Violino, Viola, Viola, Viola da gamba, Viola da gamba, Basso continuo, Basso continuo</td>\n",
       "      <td>42</td>\n",
       "    </tr>\n",
       "  </tbody>\n",
       "</table>\n",
       "</div>"
      ],
      "text/plain": [
       "                                 naslov  \\\n",
       "sifra                                     \n",
       "304    St. Matthew passion (Neufassung)   \n",
       "\n",
       "                                                                                                                                                                                                                                                                                                                                                                                                                                                                                                zasedba  \\\n",
       "sifra                                                                                                                                                                                                                                                                                                                                                                                                                                                                                                     \n",
       "304    Soprano solo, Soprano solo, Alto solo, Alto solo, Tenore solo, Tenore solo, Basso solo, Basso solo, Soprano, Soprano, Alto, Alto, Tenore, Tenore, Basso, Basso, Flauto traverso, Flauto traverso, Flauto traverso, Flauto traverso, Flauto dolce, Flauto dolce, Oboe, Oboe, Oboe, Oboe, Oboe d'amore, Oboe d'amore, Oboe d'amore, Oboe d'amore, Oboe da caccia, Oboe da caccia, Violino, Violino, Violino, Violino, Viola, Viola, Viola da gamba, Viola da gamba, Basso continuo, Basso continuo   \n",
       "\n",
       "       velikost  \n",
       "sifra            \n",
       "304          42  "
      ]
     },
     "execution_count": 14,
     "metadata": {},
     "output_type": "execute_result"
    }
   ],
   "source": [
    "af.skladba_najvecja_zasedba()"
   ]
  },
  {
   "cell_type": "markdown",
   "id": "17a2c967",
   "metadata": {},
   "source": [
    "Kljub temu, da je Matejev pasijon tehnično napisan za dva orkestra in zbora skupaj z solisti, je moderni simfonični orkester dvakrat številčnejši. To je posledica širšega trenda 18. in 19. stoletja, kjer se je orkester postopoma povečeval vse do 120 glasbenikov za nekatera dela Richarda Wagner in Gustava Mahlerja."
   ]
  },
  {
   "cell_type": "markdown",
   "id": "388efff8",
   "metadata": {},
   "source": [
    "Če so bile zasedbe v Bachovem času toliko manjše, katere so potem njegove najpogostejše zasedbe?"
   ]
  },
  {
   "cell_type": "code",
   "execution_count": 15,
   "id": "649365c1",
   "metadata": {},
   "outputs": [
    {
     "data": {
      "text/html": [
       "<div>\n",
       "<style scoped>\n",
       "    .dataframe tbody tr th:only-of-type {\n",
       "        vertical-align: middle;\n",
       "    }\n",
       "\n",
       "    .dataframe tbody tr th {\n",
       "        vertical-align: top;\n",
       "    }\n",
       "\n",
       "    .dataframe thead th {\n",
       "        text-align: right;\n",
       "    }\n",
       "</style>\n",
       "<table border=\"1\" class=\"dataframe\">\n",
       "  <thead>\n",
       "    <tr style=\"text-align: right;\">\n",
       "      <th></th>\n",
       "      <th>count</th>\n",
       "    </tr>\n",
       "    <tr>\n",
       "      <th>zasedba</th>\n",
       "      <th></th>\n",
       "    </tr>\n",
       "  </thead>\n",
       "  <tbody>\n",
       "    <tr>\n",
       "      <th>Organo</th>\n",
       "      <td>305</td>\n",
       "    </tr>\n",
       "    <tr>\n",
       "      <th>Tastiera</th>\n",
       "      <td>220</td>\n",
       "    </tr>\n",
       "    <tr>\n",
       "      <th>Soprano, Alto, Tenore, Basso</th>\n",
       "      <td>188</td>\n",
       "    </tr>\n",
       "    <tr>\n",
       "      <th>Voce, Basso continuo</th>\n",
       "      <td>86</td>\n",
       "    </tr>\n",
       "    <tr>\n",
       "      <th>Soprano solo, Alto solo, Tenore solo, Basso solo, Soprano, Alto, Tenore, Basso, Oboe, Oboe, Violino, Violino, Viola, Basso continuo</th>\n",
       "      <td>8</td>\n",
       "    </tr>\n",
       "    <tr>\n",
       "      <th>Soprano solo, Alto solo, Tenore solo, Basso solo, Soprano, Alto, Tenore, Basso, Oboe d'amore, Oboe d'amore, Violino, Violino, Viola, Basso continuo</th>\n",
       "      <td>6</td>\n",
       "    </tr>\n",
       "  </tbody>\n",
       "</table>\n",
       "</div>"
      ],
      "text/plain": [
       "                                                                                                                                                     count\n",
       "zasedba                                                                                                                                                   \n",
       "Organo                                                                                                                                                 305\n",
       "Tastiera                                                                                                                                               220\n",
       "Soprano, Alto, Tenore, Basso                                                                                                                           188\n",
       "Voce, Basso continuo                                                                                                                                    86\n",
       "Soprano solo, Alto solo, Tenore solo, Basso solo, Soprano, Alto, Tenore, Basso, Oboe, Oboe, Violino, Violino, Viola, Basso continuo                      8\n",
       "Soprano solo, Alto solo, Tenore solo, Basso solo, Soprano, Alto, Tenore, Basso, Oboe d'amore, Oboe d'amore, Violino, Violino, Viola, Basso continuo      6"
      ]
     },
     "execution_count": 15,
     "metadata": {},
     "output_type": "execute_result"
    }
   ],
   "source": [
    "af.modus_5_zasedb()"
   ]
  },
  {
   "cell_type": "markdown",
   "id": "0893df4d",
   "metadata": {},
   "source": [
    "Kot smo že rekli je bil Bach poklicno tudi organist in to se naravno prevede na splošno klaviaturo (Tastiera) npr. čembalo ali klavikord.  \n",
    "Soprano, alto, tenor in bas je zelo pogosta zasedba za vokalno glasbo, pri bachu npr. korali. Bach uporablja isto zasedbo tudi za nekatera inštrumentalna dela npr. umetnost fuge (*Die Kunst der Fuge*).  \n",
    "Glas in generalbas (Basso continuo) je zasedba vseh njegovih pesmi.  \n",
    "Zadnji dve zasedbi se nanašata na razne kantate, ki so vokalno-inštrumentalne."
   ]
  },
  {
   "cell_type": "markdown",
   "id": "765c8990",
   "metadata": {},
   "source": [
    "Vidimo, da se nekatera glasbila pojavijo v večih zasedbah. Soprano je v treh od petih najpogostejših zasedbah. Dajmo to splošno opredeliti:"
   ]
  },
  {
   "cell_type": "code",
   "execution_count": 16,
   "id": "2c7dfecb",
   "metadata": {},
   "outputs": [
    {
     "data": {
      "text/html": [
       "<div>\n",
       "<style scoped>\n",
       "    .dataframe tbody tr th:only-of-type {\n",
       "        vertical-align: middle;\n",
       "    }\n",
       "\n",
       "    .dataframe tbody tr th {\n",
       "        vertical-align: top;\n",
       "    }\n",
       "\n",
       "    .dataframe thead th {\n",
       "        text-align: right;\n",
       "    }\n",
       "</style>\n",
       "<table border=\"1\" class=\"dataframe\">\n",
       "  <thead>\n",
       "    <tr style=\"text-align: right;\">\n",
       "      <th></th>\n",
       "      <th>pojavitve</th>\n",
       "    </tr>\n",
       "  </thead>\n",
       "  <tbody>\n",
       "    <tr>\n",
       "      <th>Violino</th>\n",
       "      <td>594</td>\n",
       "    </tr>\n",
       "    <tr>\n",
       "      <th>Soprano</th>\n",
       "      <td>481</td>\n",
       "    </tr>\n",
       "    <tr>\n",
       "      <th>Basso</th>\n",
       "      <td>476</td>\n",
       "    </tr>\n",
       "    <tr>\n",
       "      <th>Alto</th>\n",
       "      <td>471</td>\n",
       "    </tr>\n",
       "    <tr>\n",
       "      <th>Tenore</th>\n",
       "      <td>471</td>\n",
       "    </tr>\n",
       "    <tr>\n",
       "      <th>...</th>\n",
       "      <td>...</td>\n",
       "    </tr>\n",
       "    <tr>\n",
       "      <th>Campanelle</th>\n",
       "      <td>1</td>\n",
       "    </tr>\n",
       "    <tr>\n",
       "      <th>Violini</th>\n",
       "      <td>1</td>\n",
       "    </tr>\n",
       "    <tr>\n",
       "      <th>Oboi</th>\n",
       "      <td>1</td>\n",
       "    </tr>\n",
       "    <tr>\n",
       "      <th>Tromba (Clarino)</th>\n",
       "      <td>1</td>\n",
       "    </tr>\n",
       "    <tr>\n",
       "      <th>Viole</th>\n",
       "      <td>1</td>\n",
       "    </tr>\n",
       "  </tbody>\n",
       "</table>\n",
       "<p>53 rows × 1 columns</p>\n",
       "</div>"
      ],
      "text/plain": [
       "                  pojavitve\n",
       "Violino                 594\n",
       "Soprano                 481\n",
       "Basso                   476\n",
       "Alto                    471\n",
       "Tenore                  471\n",
       "...                     ...\n",
       "Campanelle                1\n",
       "Violini                   1\n",
       "Oboi                      1\n",
       "Tromba (Clarino)          1\n",
       "Viole                     1\n",
       "\n",
       "[53 rows x 1 columns]"
      ]
     },
     "execution_count": 16,
     "metadata": {},
     "output_type": "execute_result"
    },
    {
     "data": {
      "image/png": "[encoded data removed]",
      "text/plain": [
       "<Figure size 2000x500 with 1 Axes>"
      ]
     },
     "metadata": {},
     "output_type": "display_data"
    }
   ],
   "source": [
    "af.posamezna_glasbila_pojavitve_plot()\n",
    "af.posamezna_glasbila_pojavitve()"
   ]
  },
  {
   "cell_type": "markdown",
   "id": "473e0ba9",
   "metadata": {},
   "source": [
    "Violina je najvišji inštrument med godali, soprano pa med glasovi. Glavno melodijo ponavadi igrajo taka glasbila, saj lažje slišimo visoke tone kot nižje. "
   ]
  },
  {
   "cell_type": "markdown",
   "id": "ec716406",
   "metadata": {},
   "source": [
    "Kot smo že omenili, je Bach veliko preurejal in ponovno uporabljal svoja dela. Maša v b-molu je deloma sestavljena iz raznih prejšnih del. Tako BWV katalog vsebuje tudi podatek, kje drugje se skladba pojavi, torej \"je del\" neke druge zbirke ali skladbe.\n",
    "\n",
    "Poglejmo katere take povezave so najpogostejše:"
   ]
  },
  {
   "cell_type": "code",
   "execution_count": 17,
   "id": "876d4b3d",
   "metadata": {},
   "outputs": [
    {
     "data": {
      "text/plain": [
       "povezave\n",
       "BWV 439-507                  69\n",
       "BWV diverse [1. Jg.]         57\n",
       "BWV 599-644                  48\n",
       "BWV 846-869                  48\n",
       "BWV diverse [2. Jg.]         41\n",
       "BWV diverse [3. Jg.]         32\n",
       "BWV 772-801                  31\n",
       "BWV diverse [o.Jg.]          29\n",
       "BWV 552, 669-689, 802-805    26\n",
       "BWV 870-893                  24\n",
       "Name: count, dtype: int64"
      ]
     },
     "execution_count": 17,
     "metadata": {},
     "output_type": "execute_result"
    }
   ],
   "source": [
    "af.najpogostejse_povezave()"
   ]
  },
  {
   "cell_type": "markdown",
   "id": "20c31579",
   "metadata": {},
   "source": [
    "BWV 439-507 je zbirka \"Schemellijeva pesmarica\" (*Schemellis Gesangbuch*), 1. Jg. (*Jahrgang 1*) je prvi cikel kantat iz Leipziga, BWV 599-644 pa zbirka *Orgel-Büchlein*.\n",
    "\n",
    "To so največje zbirke 1998 izdaje *Bach-Werke-Verzeichnis*. "
   ]
  },
  {
   "cell_type": "markdown",
   "id": "bf41501d",
   "metadata": {},
   "source": [
    "Poglejmo še najbolj povezane skladbe, torej ki so del največ zbirk in drugih skladb:"
   ]
  },
  {
   "cell_type": "code",
   "execution_count": 18,
   "id": "90ba9a16",
   "metadata": {},
   "outputs": [
    {
     "name": "stdout",
     "output_type": "stream",
     "text": [
      "Največ povezav: 6\n"
     ]
    },
    {
     "data": {
      "text/html": [
       "<div>\n",
       "<style scoped>\n",
       "    .dataframe tbody tr th:only-of-type {\n",
       "        vertical-align: middle;\n",
       "    }\n",
       "\n",
       "    .dataframe tbody tr th {\n",
       "        vertical-align: top;\n",
       "    }\n",
       "\n",
       "    .dataframe thead th {\n",
       "        text-align: right;\n",
       "    }\n",
       "</style>\n",
       "<table border=\"1\" class=\"dataframe\">\n",
       "  <thead>\n",
       "    <tr style=\"text-align: right;\">\n",
       "      <th></th>\n",
       "      <th>naslov</th>\n",
       "      <th>BWV</th>\n",
       "    </tr>\n",
       "    <tr>\n",
       "      <th>sifra</th>\n",
       "      <th></th>\n",
       "      <th></th>\n",
       "    </tr>\n",
       "  </thead>\n",
       "  <tbody>\n",
       "    <tr>\n",
       "      <th>1035</th>\n",
       "      <td>Prelude and fugue (fughetta) in C (early version)</td>\n",
       "      <td>870.1</td>\n",
       "    </tr>\n",
       "    <tr>\n",
       "      <th>1068</th>\n",
       "      <td>Prelude and fugue (fughetta) in d</td>\n",
       "      <td>899.0</td>\n",
       "    </tr>\n",
       "    <tr>\n",
       "      <th>1070</th>\n",
       "      <td>Prelude and fugue (fughetta) in F</td>\n",
       "      <td>901.0</td>\n",
       "    </tr>\n",
       "    <tr>\n",
       "      <th>1071</th>\n",
       "      <td>Prelude (new version) and fugue (fughetta) in G</td>\n",
       "      <td>902.2</td>\n",
       "    </tr>\n",
       "    <tr>\n",
       "      <th>1072</th>\n",
       "      <td>Prelude in G (early version)</td>\n",
       "      <td>902.1</td>\n",
       "    </tr>\n",
       "  </tbody>\n",
       "</table>\n",
       "</div>"
      ],
      "text/plain": [
       "                                                  naslov    BWV\n",
       "sifra                                                          \n",
       "1035   Prelude and fugue (fughetta) in C (early version)  870.1\n",
       "1068                   Prelude and fugue (fughetta) in d  899.0\n",
       "1070                   Prelude and fugue (fughetta) in F  901.0\n",
       "1071     Prelude (new version) and fugue (fughetta) in G  902.2\n",
       "1072                        Prelude in G (early version)  902.1"
      ]
     },
     "execution_count": 18,
     "metadata": {},
     "output_type": "execute_result"
    }
   ],
   "source": [
    "af.skladbe_najvec_povezav()"
   ]
  },
  {
   "cell_type": "markdown",
   "id": "da61f6ec",
   "metadata": {},
   "source": [
    "Za konec ostaneta zdaleč najbolj pomembna podatka: najdaljši in najkrajši naslov:"
   ]
  },
  {
   "cell_type": "code",
   "execution_count": 19,
   "id": "09be9570",
   "metadata": {},
   "outputs": [
    {
     "data": {
      "text/html": [
       "<div>\n",
       "<style scoped>\n",
       "    .dataframe tbody tr th:only-of-type {\n",
       "        vertical-align: middle;\n",
       "    }\n",
       "\n",
       "    .dataframe tbody tr th {\n",
       "        vertical-align: top;\n",
       "    }\n",
       "\n",
       "    .dataframe thead th {\n",
       "        text-align: right;\n",
       "    }\n",
       "</style>\n",
       "<table border=\"1\" class=\"dataframe\">\n",
       "  <thead>\n",
       "    <tr style=\"text-align: right;\">\n",
       "      <th></th>\n",
       "      <th>naslov</th>\n",
       "      <th>dolžine</th>\n",
       "    </tr>\n",
       "    <tr>\n",
       "      <th>sifra</th>\n",
       "      <th></th>\n",
       "      <th></th>\n",
       "    </tr>\n",
       "  </thead>\n",
       "  <tbody>\n",
       "    <tr>\n",
       "      <th>805</th>\n",
       "      <td>Jesus Christus, unser Heiland, der von uns den Gotteszorn wand (à 2 Clav. et Ped., Canto fermo in Pedale)</td>\n",
       "      <td>105</td>\n",
       "    </tr>\n",
       "    <tr>\n",
       "      <th>668</th>\n",
       "      <td>Trio, G</td>\n",
       "      <td>7</td>\n",
       "    </tr>\n",
       "  </tbody>\n",
       "</table>\n",
       "</div>"
      ],
      "text/plain": [
       "                                                                                                          naslov  \\\n",
       "sifra                                                                                                              \n",
       "805    Jesus Christus, unser Heiland, der von uns den Gotteszorn wand (à 2 Clav. et Ped., Canto fermo in Pedale)   \n",
       "668                                                                                                      Trio, G   \n",
       "\n",
       "       dolžine  \n",
       "sifra           \n",
       "805        105  \n",
       "668          7  "
      ]
     },
     "execution_count": 19,
     "metadata": {},
     "output_type": "execute_result"
    }
   ],
   "source": [
    "af.najdalsi_najkrajsi_naslov()"
   ]
  }
 ],
 "metadata": {
  "kernelspec": {
   "display_name": "Python 3",
   "language": "python",
   "name": "python3"
  },
  "language_info": {
   "codemirror_mode": {
    "name": "ipython",
    "version": 3
   },
   "file_extension": ".py",
   "mimetype": "text/x-python",
   "name": "python",
   "nbconvert_exporter": "python",
   "pygments_lexer": "ipython3",
   "version": "3.11.2"
  }
 },
 "nbformat": 4,
 "nbformat_minor": 5
}
