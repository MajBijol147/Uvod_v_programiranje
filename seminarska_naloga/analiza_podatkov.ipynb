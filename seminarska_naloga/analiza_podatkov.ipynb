{
 "cells": [
  {
   "cell_type": "markdown",
   "id": "b56ec2d2",
   "metadata": {},
   "source": [
    "# Analiza podatkov\n",
    "\n",
    "Zdaj ko so podatki pobrani in shranjeni v csv datoteki lahko pričnemo z analizo.\n",
    "Vse analitične funkcije so shranjene v datoteki `analiticne_funkcije.py` in jih tu samo kličemo.\n",
    "\n",
    "**Opomba: podatki so nepopolni**  \n",
    " Veliko podatkov se je izgubilo ali uničilo v zadnjih 300 letih, kakšni še niso bili odkriti ali pa skladba preprosto nima teh podatkov (npr. inštrumentalna skladba ne bo imela odlomkov iz biblije).   \n",
    "*Bach-Werke-Verzeichnis* se še do tega dneva dopolnjuje."
   ]
  },
  {
   "cell_type": "code",
   "execution_count": 1,
   "id": "f89f0535",
   "metadata": {},
   "outputs": [],
   "source": [
    "import pandas as pd\n",
    "import numpy as np\n",
    "import analiticne_funkcije as af\n",
    "\n",
    "bach = pd.read_csv(\"podatki_bach.csv\", index_col=\"sifra\")\n",
    "pd.options.display.max_rows = 20"
   ]
  },
  {
   "cell_type": "markdown",
   "id": "5af2f296",
   "metadata": {},
   "source": [
    "Označbe v **BWV** niso vedno naravna števila, ampak imajo pogosto decimalno mesto. To je oznaka za različico iste skladbe, torej ko je Bach isto skladbo spremenil za različne namene in priložnosti (npr. posvetna kantata je postala sakralna).  \n",
    "Poiščimo BWV oznako z največ različicami:"
   ]
  },
  {
   "cell_type": "code",
   "execution_count": 2,
   "id": "5d9d5190",
   "metadata": {},
   "outputs": [
    {
     "data": {
      "text/plain": [
       "0    36\n",
       "Name: BWV, dtype: int64"
      ]
     },
     "execution_count": 2,
     "metadata": {},
     "output_type": "execute_result"
    }
   ],
   "source": [
    "af.najvec_razlicic()"
   ]
  },
  {
   "cell_type": "markdown",
   "id": "d469d670",
   "metadata": {},
   "source": [
    "Čeprav nobena skladba nima oznake BWV 36, so skladbe BWV 36.1 - 36.5 kantate. Tako je posvetna kantata BWV 36.1 \"*Schwingt freudig euch empor*\" postala sakralna kantata BWV 36.4 in BWV 36.5 s istim naslovom."
   ]
  },
  {
   "cell_type": "markdown",
   "id": "b9ecc5e5",
   "metadata": {},
   "source": [
    "Poglejmo povezavo med žanrom in številom različič. Pričakujemo, da bodo obsežna dela imela več različic, saj so bolj kompleksna in zahtevajo obširnejšo zasedbo."
   ]
  },
  {
   "cell_type": "code",
   "execution_count": 3,
   "id": "7f4e5670",
   "metadata": {},
   "outputs": [
    {
     "name": "stderr",
     "output_type": "stream",
     "text": [
      "d:\\PODATKI MAJ\\Studij - Matematika\\Uvod_v_programiranje-1\\seminarska_naloga\\analiticne_funkcije.py:19: SettingWithCopyWarning: \n",
      "A value is trying to be set on a copy of a slice from a DataFrame.\n",
      "Try using .loc[row_indexer,col_indexer] = value instead\n",
      "\n",
      "See the caveats in the documentation: https://pandas.pydata.org/pandas-docs/stable/user_guide/indexing.html#returning-a-view-versus-a-copy\n",
      "  bach_BWVzanr_dropna[\"BWV\"] = bach_BWVzanr_dropna.BWV.astype(int).values.tolist()\n"
     ]
    },
    {
     "data": {
      "text/html": [
       "<div>\n",
       "<style scoped>\n",
       "    .dataframe tbody tr th:only-of-type {\n",
       "        vertical-align: middle;\n",
       "    }\n",
       "\n",
       "    .dataframe tbody tr th {\n",
       "        vertical-align: top;\n",
       "    }\n",
       "\n",
       "    .dataframe thead th {\n",
       "        text-align: right;\n",
       "    }\n",
       "</style>\n",
       "<table border=\"1\" class=\"dataframe\">\n",
       "  <thead>\n",
       "    <tr style=\"text-align: right;\">\n",
       "      <th></th>\n",
       "      <th>BWV</th>\n",
       "      <th>max. različic</th>\n",
       "      <th>povprečje različic</th>\n",
       "    </tr>\n",
       "    <tr>\n",
       "      <th>zanr</th>\n",
       "      <th></th>\n",
       "      <th></th>\n",
       "      <th></th>\n",
       "    </tr>\n",
       "  </thead>\n",
       "  <tbody>\n",
       "    <tr>\n",
       "      <th>Aria</th>\n",
       "      <td>200</td>\n",
       "      <td>1</td>\n",
       "      <td>1.000000</td>\n",
       "    </tr>\n",
       "    <tr>\n",
       "      <th>Cantata</th>\n",
       "      <td>249</td>\n",
       "      <td>4</td>\n",
       "      <td>1.000000</td>\n",
       "    </tr>\n",
       "    <tr>\n",
       "      <th>Chorale</th>\n",
       "      <td>[250, 251, 252, 253, 254, 255, 256, 257, 258, ...</td>\n",
       "      <td>1</td>\n",
       "      <td>1.000000</td>\n",
       "    </tr>\n",
       "    <tr>\n",
       "      <th>Chorale cantata</th>\n",
       "      <td>[4, 8, 80, 91, 130]</td>\n",
       "      <td>2</td>\n",
       "      <td>1.094340</td>\n",
       "    </tr>\n",
       "    <tr>\n",
       "      <th>Chorale setting</th>\n",
       "      <td>[653, 660]</td>\n",
       "      <td>3</td>\n",
       "      <td>1.144828</td>\n",
       "    </tr>\n",
       "    <tr>\n",
       "      <th>Lied</th>\n",
       "      <td>[439, 440, 441, 442, 443, 444, 445, 446, 447, ...</td>\n",
       "      <td>1</td>\n",
       "      <td>1.000000</td>\n",
       "    </tr>\n",
       "    <tr>\n",
       "      <th>Magnificat</th>\n",
       "      <td>243</td>\n",
       "      <td>2</td>\n",
       "      <td>2.000000</td>\n",
       "    </tr>\n",
       "    <tr>\n",
       "      <th>Mass</th>\n",
       "      <td>[232, 233]</td>\n",
       "      <td>2</td>\n",
       "      <td>1.222222</td>\n",
       "    </tr>\n",
       "    <tr>\n",
       "      <th>Motet</th>\n",
       "      <td>[118, 225, 226, 227, 228, 229, 230]</td>\n",
       "      <td>1</td>\n",
       "      <td>1.000000</td>\n",
       "    </tr>\n",
       "    <tr>\n",
       "      <th>Music for organ</th>\n",
       "      <td>[532, 535, 543, 545, 549, 574]</td>\n",
       "      <td>2</td>\n",
       "      <td>1.100000</td>\n",
       "    </tr>\n",
       "    <tr>\n",
       "      <th>Oratorio</th>\n",
       "      <td>[11, 248, 249]</td>\n",
       "      <td>1</td>\n",
       "      <td>1.000000</td>\n",
       "    </tr>\n",
       "    <tr>\n",
       "      <th>Passion</th>\n",
       "      <td>245</td>\n",
       "      <td>4</td>\n",
       "      <td>2.333333</td>\n",
       "    </tr>\n",
       "    <tr>\n",
       "      <th>Quodlibet</th>\n",
       "      <td>524</td>\n",
       "      <td>1</td>\n",
       "      <td>1.000000</td>\n",
       "    </tr>\n",
       "    <tr>\n",
       "      <th>Sacred cantata</th>\n",
       "      <td>[21, 23, 82, 120, 172, 194, 195, 199]</td>\n",
       "      <td>3</td>\n",
       "      <td>1.188406</td>\n",
       "    </tr>\n",
       "    <tr>\n",
       "      <th>Secular cantata</th>\n",
       "      <td>[36, 208]</td>\n",
       "      <td>5</td>\n",
       "      <td>1.384615</td>\n",
       "    </tr>\n",
       "    <tr>\n",
       "      <th>Vocal music</th>\n",
       "      <td>50</td>\n",
       "      <td>1</td>\n",
       "      <td>1.000000</td>\n",
       "    </tr>\n",
       "    <tr>\n",
       "      <th>Work for keyboard instruments with or without pedal keyboard</th>\n",
       "      <td>870</td>\n",
       "      <td>3</td>\n",
       "      <td>1.233766</td>\n",
       "    </tr>\n",
       "  </tbody>\n",
       "</table>\n",
       "</div>"
      ],
      "text/plain": [
       "                                                                                                  BWV  \\\n",
       "zanr                                                                                                    \n",
       "Aria                                                                                              200   \n",
       "Cantata                                                                                           249   \n",
       "Chorale                                             [250, 251, 252, 253, 254, 255, 256, 257, 258, ...   \n",
       "Chorale cantata                                                                   [4, 8, 80, 91, 130]   \n",
       "Chorale setting                                                                            [653, 660]   \n",
       "Lied                                                [439, 440, 441, 442, 443, 444, 445, 446, 447, ...   \n",
       "Magnificat                                                                                        243   \n",
       "Mass                                                                                       [232, 233]   \n",
       "Motet                                                             [118, 225, 226, 227, 228, 229, 230]   \n",
       "Music for organ                                                        [532, 535, 543, 545, 549, 574]   \n",
       "Oratorio                                                                               [11, 248, 249]   \n",
       "Passion                                                                                           245   \n",
       "Quodlibet                                                                                         524   \n",
       "Sacred cantata                                                  [21, 23, 82, 120, 172, 194, 195, 199]   \n",
       "Secular cantata                                                                             [36, 208]   \n",
       "Vocal music                                                                                        50   \n",
       "Work for keyboard instruments with or without p...                                                870   \n",
       "\n",
       "                                                    max. različic  \\\n",
       "zanr                                                                \n",
       "Aria                                                            1   \n",
       "Cantata                                                         4   \n",
       "Chorale                                                         1   \n",
       "Chorale cantata                                                 2   \n",
       "Chorale setting                                                 3   \n",
       "Lied                                                            1   \n",
       "Magnificat                                                      2   \n",
       "Mass                                                            2   \n",
       "Motet                                                           1   \n",
       "Music for organ                                                 2   \n",
       "Oratorio                                                        1   \n",
       "Passion                                                         4   \n",
       "Quodlibet                                                       1   \n",
       "Sacred cantata                                                  3   \n",
       "Secular cantata                                                 5   \n",
       "Vocal music                                                     1   \n",
       "Work for keyboard instruments with or without p...              3   \n",
       "\n",
       "                                                    povprečje različic  \n",
       "zanr                                                                    \n",
       "Aria                                                          1.000000  \n",
       "Cantata                                                       1.000000  \n",
       "Chorale                                                       1.000000  \n",
       "Chorale cantata                                               1.094340  \n",
       "Chorale setting                                               1.144828  \n",
       "Lied                                                          1.000000  \n",
       "Magnificat                                                    2.000000  \n",
       "Mass                                                          1.222222  \n",
       "Motet                                                         1.000000  \n",
       "Music for organ                                               1.100000  \n",
       "Oratorio                                                      1.000000  \n",
       "Passion                                                       2.333333  \n",
       "Quodlibet                                                     1.000000  \n",
       "Sacred cantata                                                1.188406  \n",
       "Secular cantata                                               1.384615  \n",
       "Vocal music                                                   1.000000  \n",
       "Work for keyboard instruments with or without p...            1.233766  "
      ]
     },
     "execution_count": 3,
     "metadata": {},
     "output_type": "execute_result"
    }
   ],
   "source": [
    "af.razlicice_zanri()"
   ]
  },
  {
   "cell_type": "markdown",
   "id": "25e45f8f",
   "metadata": {},
   "source": [
    "Naša pričakovanja so bila delno pravilna. Pasijon je vrsta oratorija (nekakšna opera z manj scenografskega spektakla), ki uglasbi Jezusove zadnje trenutke pred smrtjo kot so opisani v izbranem evangeliju, vsekakor zelo kompleksna glasbena oblika. Pasijon ima razumljivo tudi najvišje povprečje različic.\n",
    "\n",
    "Kot smo že zgoraj videli, imajo posvetne kantate skladbo z največ različic in drugim najvišjim povprečjem. Bach je pisal posvetne kantate za razne dogodke kot so praznovanja, poroke, akademsko (za univerzo), zabava plemstva itd., skratka ni presenetljivo, da jih je predeloval, spreminjal in ponovno uporabil kako drugače."
   ]
  },
  {
   "cell_type": "markdown",
   "id": "ebc57e22",
   "metadata": {},
   "source": [
    "Koliko kantat pa je napisal točno?"
   ]
  },
  {
   "cell_type": "code",
   "execution_count": 5,
   "id": "28f3b2b4",
   "metadata": {},
   "outputs": [
    {
     "data": {
      "text/plain": [
       "zanr\n",
       "Aria                                                              1\n",
       "Cantata                                                           1\n",
       "Chorale                                                         179\n",
       "Chorale cantata                                                  58\n",
       "Chorale setting                                                 166\n",
       "Lied                                                             80\n",
       "Magnificat                                                        2\n",
       "Mass                                                             11\n",
       "Motet                                                             7\n",
       "Music for organ                                                  66\n",
       "Oratorio                                                          3\n",
       "Passion                                                           7\n",
       "Quodlibet                                                         1\n",
       "Sacred cantata                                                  164\n",
       "Secular cantata                                                  36\n",
       "Vocal music                                                       1\n",
       "Work for keyboard instruments with or without pedal keyboard    190\n",
       "dtype: int64"
      ]
     },
     "execution_count": 5,
     "metadata": {},
     "output_type": "execute_result"
    }
   ],
   "source": [
    "af.skladbe_po_zanri()"
   ]
  },
  {
   "cell_type": "markdown",
   "id": "21af26c9",
   "metadata": {},
   "source": [
    "Vidimo, da jih je napisal kar 259, od tega večino sakralne. V Leipzigu je bil od leta 1723 do svoje smrti leta 1750 kapelnik in je tako vsako nedeljo izvedel sakralno kantato, prva leta tam pa je eno napisal vsak teden.\n",
    "\n",
    "Izstopa tudi \"delo za instrumente s tipkami\", za takratni čas čembalo in klavikord. Bachovo najbolj znano delo, priznano kot eno najbolj pomembnih del v zgodovini glasbe, sta dva zvezka *Das wohltemperierte Klavier* (Dobro uglašen klavir), kjer za vsako lestvico spiše preludij in fugo, torej skupaj kar 96 skladb."
   ]
  }
 ],
 "metadata": {
  "kernelspec": {
   "display_name": "Python 3",
   "language": "python",
   "name": "python3"
  },
  "language_info": {
   "codemirror_mode": {
    "name": "ipython",
    "version": 3
   },
   "file_extension": ".py",
   "mimetype": "text/x-python",
   "name": "python",
   "nbconvert_exporter": "python",
   "pygments_lexer": "ipython3",
   "version": "3.11.2"
  }
 },
 "nbformat": 4,
 "nbformat_minor": 5
}
