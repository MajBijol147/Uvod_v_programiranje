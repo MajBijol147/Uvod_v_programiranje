{
 "cells": [
  {
   "cell_type": "code",
   "execution_count": null,
   "metadata": {},
   "outputs": [],
   "source": [
    "import csv\n",
    "import os"
   ]
  },
  {
   "attachments": {},
   "cell_type": "markdown",
   "metadata": {},
   "source": [
    "# 1. Nekaj pomožnih orodij za pridobivanje podatkov s spleta"
   ]
  },
  {
   "cell_type": "code",
   "execution_count": null,
   "metadata": {},
   "outputs": [],
   "source": [
    "# definirajte URL glavne strani bolhe za oglase z mačkami\n",
    "cats_frontpage_url = 'https://www.bolha.com/macke'\n",
    "# mapa, v katero bomo shranili podatke\n",
    "cat_directory = 'TODO'\n",
    "# ime datoteke v katero bomo shranili glavno stran\n",
    "frontpage_filename = 'TODO'\n",
    "# ime CSV datoteke v katero bomo shranili podatke\n",
    "csv_filename = 'TODO'"
   ]
  },
  {
   "cell_type": "code",
   "execution_count": null,
   "metadata": {},
   "outputs": [],
   "source": [
    "def download_url_to_string(url):\n",
    "    \"\"\"Funkcija kot argument sprejme niz in poskusi vrniti vsebino te spletne\n",
    "    strani kot niz. V primeru, da med izvajanje pride do napake vrne None.\n",
    "    \"\"\"\n",
    "    try:\n",
    "        # del kode, ki morda sproži napako\n",
    "        page_content = 'TODO'\n",
    "    except 'TODO':\n",
    "        # koda, ki se izvede pri napaki\n",
    "        # dovolj je če izpišemo opozorilo in prekinemo izvajanje funkcije\n",
    "        raise NotImplementedError()\n",
    "    # nadaljujemo s kodo če ni prišlo do napake\n",
    "    raise NotImplementedError()\n",
    "\n",
    "\n",
    "def save_string_to_file(text, directory, filename):\n",
    "    \"\"\"Funkcija zapiše vrednost parametra \"text\" v novo ustvarjeno datoteko\n",
    "    locirano v \"directory\"/\"filename\", ali povozi obstoječo. V primeru, da je\n",
    "    niz \"directory\" prazen datoteko ustvari v trenutni mapi.\n",
    "    \"\"\"\n",
    "    os.makedirs(directory, exist_ok=True)\n",
    "    path = os.path.join(directory, filename)\n",
    "    with open(path, 'w', encoding='utf-8') as file_out:\n",
    "        file_out.write(text)\n",
    "    return None"
   ]
  },
  {
   "attachments": {},
   "cell_type": "markdown",
   "metadata": {},
   "source": [
    "Definirajte funkcijo (s pomočjo gornjih dveh), ki prenese glavno stran in jo shrani v datoteko.\n",
    "\n",
    "V ločeni celici jo nato pokličite in shranite naslovno stran oglasov za mačke. Če želite še več oglasov, prilagodite url in mu dodajte npr. `?page=3`."
   ]
  },
  {
   "cell_type": "code",
   "execution_count": null,
   "metadata": {},
   "outputs": [],
   "source": [
    "def save_frontpage(page, directory, filename):\n",
    "    \"\"\"Funkcija shrani vsebino spletne strani na naslovu \"page\" v datoteko\n",
    "    \"directory\"/\"filename\".\"\"\"\n",
    "    raise NotImplementedError()\n"
   ]
  },
  {
   "attachments": {},
   "cell_type": "markdown",
   "metadata": {},
   "source": [
    "# 2. Po pridobitvi podatkov jih želimo obdelati\n",
    "\n",
    "Definirajmo nekaj funkcij - vsaka bo opravila en kos dela."
   ]
  },
  {
   "cell_type": "code",
   "execution_count": null,
   "metadata": {},
   "outputs": [],
   "source": [
    "def read_file_to_string(directory, filename):\n",
    "    \"\"\"Funkcija vrne celotno vsebino datoteke \"directory\"/\"filename\" kot niz.\"\"\"\n",
    "    raise NotImplementedError()"
   ]
  },
  {
   "attachments": {},
   "cell_type": "markdown",
   "metadata": {},
   "source": [
    "Definirajte funkcijo, ki sprejme niz, ki predstavlja vsebino spletne strani,\n",
    "in ga razdeli na dele, kjer vsak del predstavlja en oglas. To storite s\n",
    "pomočjo regularnih izrazov, ki označujejo začetek in konec posameznega\n",
    "oglasa. Funkcija naj vrne seznam nizov."
   ]
  },
  {
   "cell_type": "code",
   "execution_count": null,
   "metadata": {},
   "outputs": [],
   "source": [
    "def page_to_ads(page_content):\n",
    "    \"\"\"Funkcija poišče posamezne oglase, ki se nahajajo v spletni strani in\n",
    "    vrne seznam oglasov.\"\"\"\n",
    "    raise NotImplementedError()"
   ]
  },
  {
   "attachments": {},
   "cell_type": "markdown",
   "metadata": {},
   "source": [
    "Definirajte funkcijo, ki sprejme niz, ki predstavlja oglas, in izlušči\n",
    "podatke o imenu, lokaciji, datumu objave in ceni v oglasu.\n"
   ]
  },
  {
   "cell_type": "code",
   "execution_count": null,
   "metadata": {},
   "outputs": [],
   "source": [
    "def get_dict_from_ad_block(block):\n",
    "    \"\"\"Funkcija iz niza za posamezen oglasni blok izlušči podatke o imenu, ceni\n",
    "    in opisu ter vrne slovar, ki vsebuje ustrezne podatke.\"\"\"\n",
    "    raise NotImplementedError()"
   ]
  },
  {
   "attachments": {},
   "cell_type": "markdown",
   "metadata": {},
   "source": [
    "Definirajte funkcijo, ki sprejme ime in lokacijo datoteke, ki vsebuje\n",
    "besedilo spletne strani, in vrne seznam slovarjev, ki vsebujejo podatke o\n",
    "vseh oglasih strani."
   ]
  },
  {
   "cell_type": "code",
   "execution_count": null,
   "metadata": {},
   "outputs": [],
   "source": [
    "def ads_from_file(filename, directory):\n",
    "    \"\"\"Funkcija prebere podatke v datoteki \"directory\"/\"filename\" in jih\n",
    "    pretvori (razčleni) v pripadajoč seznam slovarjev za vsak oglas posebej.\"\"\"\n",
    "    raise NotImplementedError()"
   ]
  },
  {
   "attachments": {},
   "cell_type": "markdown",
   "metadata": {},
   "source": [
    "# 3. Shranimo obdelane podatke"
   ]
  },
  {
   "cell_type": "code",
   "execution_count": null,
   "metadata": {},
   "outputs": [],
   "source": [
    "def write_csv(fieldnames, rows, directory, filename):\n",
    "    \"\"\"\n",
    "    Funkcija v csv datoteko podano s parametroma \"directory\"/\"filename\" zapiše\n",
    "    vrednosti v parametru \"rows\" pripadajoče ključem podanim v \"fieldnames\"\n",
    "    \"\"\"\n",
    "    os.makedirs(directory, exist_ok=True)\n",
    "    path = os.path.join(directory, filename)\n",
    "    with open(path, 'w', encoding='utf-8') as csv_file:\n",
    "        writer = csv.DictWriter(csv_file, fieldnames=fieldnames)\n",
    "        writer.writeheader()\n",
    "        for row in rows:\n",
    "            writer.writerow(row)\n",
    "    return"
   ]
  },
  {
   "attachments": {},
   "cell_type": "markdown",
   "metadata": {},
   "source": [
    "Definirajte funkcijo, ki sprejme neprazen seznam slovarjev, ki predstavljajo\n",
    "podatke iz oglasa mačke, in zapiše vse podatke v csv datoteko. Imena za\n",
    "stolpce [fieldnames] pridobite iz slovarjev."
   ]
  },
  {
   "cell_type": "code",
   "execution_count": null,
   "metadata": {},
   "outputs": [],
   "source": [
    "def write_cat_ads_to_csv(ads, directory, filename):\n",
    "    \"\"\"Funkcija vse podatke iz parametra \"ads\" zapiše v csv datoteko podano s\n",
    "    parametroma \"directory\"/\"filename\". Funkcija predpostavi, da so ključi vseh\n",
    "    slovarjev parametra ads enaki in je seznam ads neprazen.\"\"\"\n",
    "    # Stavek assert preveri da zahteva velja\n",
    "    # Če drži se program normalno izvaja, drugače pa sproži napako\n",
    "    # Prednost je v tem, da ga lahko pod določenimi pogoji izklopimo v\n",
    "    # produkcijskem okolju\n",
    "    assert ads and (all(j.keys() == ads[0].keys() for j in ads))\n",
    "    raise NotImplementedError()"
   ]
  },
  {
   "attachments": {},
   "cell_type": "markdown",
   "metadata": {},
   "source": [
    "# 4. Vse skupaj\n",
    "\n",
    "Ko imamo enkrat vse pripravljeno, je koristno, da vse korake združimo v eno samo funkcijo, ki z enim klikom opravi vse delo.\n"
   ]
  },
  {
   "cell_type": "code",
   "execution_count": null,
   "metadata": {},
   "outputs": [],
   "source": [
    "def main(redownload=True, reparse=True):\n",
    "    \"\"\"Funkcija izvede celoten del pridobivanja podatkov:\n",
    "    1. Oglase prenese iz bolhe\n",
    "    2. Lokalno html datoteko pretvori v lepšo predstavitev podatkov\n",
    "    3. Podatke shrani v csv datoteko\n",
    "    \"\"\"\n",
    "    # Najprej v lokalno datoteko shranimo glavno stran\n",
    "\n",
    "    # Iz lokalne (html) datoteke preberemo podatke\n",
    "\n",
    "    # Podatke preberemo v lepšo obliko (seznam slovarjev)\n",
    "\n",
    "    # Podatke shranimo v csv datoteko\n",
    "\n",
    "    # Dodatno: S pomočjo parametrov funkcije main omogoči nadzor, ali se\n",
    "    # celotna spletna stran ob vsakem zagon prenese (četudi že obstaja)\n",
    "    # in enako za pretvorbo\n",
    "\n",
    "    raise NotImplementedError()\n"
   ]
  },
  {
   "attachments": {},
   "cell_type": "markdown",
   "metadata": {},
   "source": [
    "Svoj program (kot `macke.py`) bi načeloma zaključili s klicem te funkcije:\n",
    "\n",
    "```\n",
    "if __name__ == '__main__':\n",
    "    main()\n",
    "```\n"
   ]
  }
 ],
 "metadata": {
  "language_info": {
   "name": "python"
  },
  "orig_nbformat": 4
 },
 "nbformat": 4,
 "nbformat_minor": 2
}
